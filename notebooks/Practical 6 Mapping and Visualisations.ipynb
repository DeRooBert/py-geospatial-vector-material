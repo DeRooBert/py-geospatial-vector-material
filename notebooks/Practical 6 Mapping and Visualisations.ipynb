{
 "cells": [
  {
   "cell_type": "markdown",
   "metadata": {},
   "source": [
    "# Practical 6: Mapping and visualisations\n",
    "\n",
    "In this practical we will focus on consolidating some of the lessons learned on creating effective maps. In the lecture we discussed some of the important design considerations for making clear, accessible, legible, *honest* maps. Now we implement a few of those technical points. We've already been making quick plots of our geographic data and in the last practical we started to create *choropleth* maps, but we'll look at a few more options for mapping.\n",
    "\n",
    "This practical covers several topics (and a few smaller ones along the way):\n",
    "* Mapping with point-referenced data\n",
    "* Adding in external basemaps or satellite imagery\n",
    "* Creating thematic maps\n",
    "* Adjusting classifications visualising data\n",
    "* Controlling multiple layers and multiple maps\n",
    "\n",
    "Creating static maps in Python with `GeoPandas` relies on `matplotlib` extensively. If you're less familiar with this graphics library, check out some of the tutorials: [https://matplotlib.org/tutorials/index.html](https://matplotlib.org/tutorials/index.html). It's also good to refer back to the documentation occassionally because there are many things you can control/adjust in a plot, and we can't show you everything in this limited practical session.\n",
    "\n",
    "Be sure to read the code blocks and the comments carefully in this practical. There are a lot of parameters and settings. Experiment with changing them and re-mapping your data."
   ]
  },
  {
   "cell_type": "code",
   "execution_count": null,
   "metadata": {},
   "outputs": [],
   "source": [
    "# load packages\n",
    "import mapclassify\n",
    "import matplotlib\n",
    "import matplotlib.pyplot as plt\n",
    "import geopandas as gpd"
   ]
  },
  {
   "cell_type": "code",
   "execution_count": null,
   "metadata": {},
   "outputs": [],
   "source": [
    "# use the magic function\n",
    "# https://ipython.readthedocs.io/en/stable/interactive/plotting.html\n",
    "%matplotlib inline"
   ]
  },
  {
   "cell_type": "markdown",
   "metadata": {},
   "source": [
    "## Mapping with Point data\n",
    "\n",
    "We will start by working with some georeferenced point data for Southampton."
   ]
  },
  {
   "cell_type": "markdown",
   "metadata": {},
   "source": [
    "### Load the data\n",
    "\n",
    "This practical is going to re-use some of the data you created in Practical 5 when calculating the distance between LSOA and supermarket in Southampton (`../data/soton_lsoa_distance.gpkg`). If you don't have that file saved, then go back to the last practical and recreate it and save a local copy before continuing."
   ]
  },
  {
   "cell_type": "code",
   "execution_count": null,
   "metadata": {},
   "outputs": [],
   "source": [
    "# load fast food restaurant locations\n",
    "ff = gpd.read_file('../data/soton_fastfood.gpkg')"
   ]
  },
  {
   "cell_type": "code",
   "execution_count": null,
   "metadata": {},
   "outputs": [],
   "source": [
    "# convert from multipoint to single\n",
    "ff = ff.explode()"
   ]
  },
  {
   "cell_type": "code",
   "execution_count": null,
   "metadata": {},
   "outputs": [],
   "source": [
    "ff.head()"
   ]
  },
  {
   "cell_type": "code",
   "execution_count": null,
   "metadata": {},
   "outputs": [],
   "source": [
    "# load supermarket locations\n",
    "# these are the data that we cleaned and prepared in the last practical\n",
    "smkt = gpd.read_file('../data/soton_smkts.gpkg')"
   ]
  },
  {
   "cell_type": "code",
   "execution_count": null,
   "metadata": {},
   "outputs": [],
   "source": [
    "# convert from multipoint to single\n",
    "smkt = smkt.explode()"
   ]
  },
  {
   "cell_type": "code",
   "execution_count": null,
   "metadata": {
    "scrolled": false
   },
   "outputs": [],
   "source": [
    "smkt.head()"
   ]
  },
  {
   "cell_type": "markdown",
   "metadata": {},
   "source": [
    "### Basic plotting\n",
    "\n",
    "As we have seen previously, we can use `.plot()` with `GeoDataFrames` to easily create a map. This method specifically creates a `matplotlib` axes object, which gives us a lot of flexibility for modifying the map."
   ]
  },
  {
   "cell_type": "code",
   "execution_count": null,
   "metadata": {},
   "outputs": [],
   "source": [
    "# create an axes object\n",
    "# based on plotting the fast food locations\n",
    "ax = ff.plot()\n",
    "\n",
    "# add supermarket locations\n",
    "smkt.plot(ax=ax)"
   ]
  },
  {
   "cell_type": "markdown",
   "metadata": {},
   "source": [
    "Conveniently, the two layers have different colours by default."
   ]
  },
  {
   "cell_type": "code",
   "execution_count": null,
   "metadata": {},
   "outputs": [],
   "source": [
    "# here we can see what we created is a matplotlib object\n",
    "type(ax)"
   ]
  },
  {
   "cell_type": "markdown",
   "metadata": {},
   "source": [
    "We can plot these layers on separate axes. This technique can help us create the effect of *small multiples* where different cuts of the data are visualised next to one another. "
   ]
  },
  {
   "cell_type": "code",
   "execution_count": null,
   "metadata": {},
   "outputs": [],
   "source": [
    "# create a figure with two subplots\n",
    "# layers are plotted separately\n",
    "fig, (ax1, ax2) = plt.subplots(ncols=2,\n",
    "                               sharex=True, # make both plots line up\n",
    "                               sharey=True)\n",
    "\n",
    "# plot fast food\n",
    "ff.plot(ax=ax1)\n",
    "# plot supermarkets\n",
    "smkt.plot(ax=ax2)"
   ]
  },
  {
   "cell_type": "markdown",
   "metadata": {},
   "source": [
    "If we want to adjust the figure size, an easy way is to modify the \"subplot\" which will contain one figure (with multiple layers). The figure size is specified in (width, height) dimensions."
   ]
  },
  {
   "cell_type": "code",
   "execution_count": null,
   "metadata": {},
   "outputs": [],
   "source": [
    "# adjusting figure size\n",
    "fig, ax = plt.subplots(figsize=(15, 10))\n",
    "\n",
    "# plot fast food locations\n",
    "ff.plot(ax=ax)\n",
    "\n",
    "# overlay supermarket locations\n",
    "smkt.plot(ax=ax)"
   ]
  },
  {
   "cell_type": "markdown",
   "metadata": {},
   "source": [
    "By plotting these two datasets separately, we can control each layer's display properties. Let's change the colour and the shape used for plotting.\n",
    "\n",
    "The list of potential point markers is here: [https://matplotlib.org/3.2.1/api/markers_api.html](https://matplotlib.org/3.2.1/api/markers_api.html)."
   ]
  },
  {
   "cell_type": "code",
   "execution_count": null,
   "metadata": {},
   "outputs": [],
   "source": [
    "# adjusting layer colour and symbol style\n",
    "fig, ax = plt.subplots(figsize=(15, 10))\n",
    "\n",
    "# plot fast food locations\n",
    "ff.plot(ax=ax,\n",
    "        color='purple')\n",
    "\n",
    "# overlay supermarket locations\n",
    "smkt.plot(ax=ax,\n",
    "          color='green',\n",
    "          marker='^')"
   ]
  },
  {
   "cell_type": "markdown",
   "metadata": {},
   "source": [
    "### Colour by attribute\n",
    "\n",
    "Sometimes we may not have separate layers, but a combined data layer and we want to adjust the *symbology* based on a value in the dataset. Rather than specifying the parameters manually as we have been, we can always use an attribute within the dataset, but we have to *map* that attribute to a set of colours. \n",
    "\n",
    "As we discussed, choice of colour can be very important in cartographic design. It can convey certain properties making your map more legible (or more confusing!). It's also important to consider accessibility in your maps. How would a person who is colourblind interpret your map? Or if you map is printed in black and white? May be it's best to combine different symbol style and colours.\n",
    "\n",
    "A great resource to explore different colour combinations is [ColourBrewer](https://colorbrewer2.org).\n",
    "\n",
    "Let's first create a combined 'food points' layer to demonstrate this process. "
   ]
  },
  {
   "cell_type": "code",
   "execution_count": null,
   "metadata": {},
   "outputs": [],
   "source": [
    "# create identifying attributes\n",
    "ff['type'] = 'FF'\n",
    "smkt['type'] = 'S'\n",
    "# combine supermarkets and fast food restaurants\n",
    "food = ff.append(smkt)"
   ]
  },
  {
   "cell_type": "code",
   "execution_count": null,
   "metadata": {},
   "outputs": [],
   "source": [
    "print(food['type'].head())\n",
    "print(food['type'].tail())"
   ]
  },
  {
   "cell_type": "markdown",
   "metadata": {},
   "source": [
    "The first way to do this is to use `cmap` to assign a pre-designed colour map. The options available can be found here: [https://matplotlib.org/tutorials/colors/colormaps.html](https://matplotlib.org/tutorials/colors/colormaps.html).\n",
    "\n",
    "Experiment with a few other options."
   ]
  },
  {
   "cell_type": "code",
   "execution_count": null,
   "metadata": {
    "scrolled": true
   },
   "outputs": [],
   "source": [
    "# create a point map, specifying colours based on an attribute\n",
    "food.plot(column='type',     # define the attribute field name\n",
    "          categorical=True,  # treat it as a qualitative value\n",
    "          cmap='Set1')   # assign colours"
   ]
  },
  {
   "cell_type": "markdown",
   "metadata": {},
   "source": [
    "Alternatively, you can manually specify your colours. \n",
    "First, create an external dictionary with colours assigned to each food point 'type'. Next, we will map those values based on the data frame column. We will store these colour assignments in the `food` GeoDataFrame for convenience."
   ]
  },
  {
   "cell_type": "code",
   "execution_count": null,
   "metadata": {},
   "outputs": [],
   "source": [
    "palette = {'FF':'#1b9e77',  # matplotlib can also use HEX colours\n",
    "           'S':'#7570b3'}"
   ]
  },
  {
   "cell_type": "code",
   "execution_count": null,
   "metadata": {},
   "outputs": [],
   "source": [
    "# use `.map()` to look up the dicionary values based on the food point type\n",
    "food['cm'] = food['type'].map(palette)\n",
    "food['cm'].head()"
   ]
  },
  {
   "cell_type": "code",
   "execution_count": null,
   "metadata": {
    "scrolled": true
   },
   "outputs": [],
   "source": [
    "# create a plot using the manual colour map\n",
    "# NOTE: assign column of colours to `c`, not `cmap`\n",
    "food.plot(c=food['cm'])"
   ]
  },
  {
   "cell_type": "markdown",
   "metadata": {},
   "source": [
    "## Adding external basemaps\n",
    "\n",
    "So far we've seen how we can create `matplotlib` axes by plotting a GeoDataFrame. We have flexibility to modify the figure size, the colour, symbols and layers in that plot. But our maps of point locations are really lacking context that our readers need. There's no way to (easily) know that we're looking at a map of Southampton.\n",
    "\n",
    "It's time to expand our maps by adding in some *basemaps* to provide a background for the point data maps."
   ]
  },
  {
   "cell_type": "code",
   "execution_count": null,
   "metadata": {},
   "outputs": [],
   "source": [
    "import contextily as cx  "
   ]
  },
  {
   "cell_type": "markdown",
   "metadata": {},
   "source": [
    "To add the basemaps we will be using `contextily` which makes this process very easy! \n",
    "\n",
    "Check the documentation here: [https://contextily.readthedocs.io/en/latest/](https://contextily.readthedocs.io/en/latest/). You can add many different kinds of basemaps and even get data from Google Earth Engine."
   ]
  },
  {
   "cell_type": "code",
   "execution_count": null,
   "metadata": {
    "scrolled": false
   },
   "outputs": [],
   "source": [
    "# start by creating a basic figure\n",
    "fig, ax = plt.subplots(figsize=(15,10))\n",
    "\n",
    "food.plot(ax=ax,\n",
    "          c=food['cm'] # use our manual color map\n",
    "         )\n",
    "\n",
    "# add the basemap to the same axis\n",
    "# note: this can be a little slow as it has to download tiles\n",
    "cx.add_basemap(ax, # add to the same plot\n",
    "               crs=food.crs.to_string()  # set the projection\n",
    "              )"
   ]
  },
  {
   "cell_type": "markdown",
   "metadata": {},
   "source": [
    "We now have the default basemap under our food point locations. In the code above, we had to specify the axis and the coordinate reference system. Remember from our earlier practical that most web map tiles are in Web Mercator projection (EPSG:3857). We could have reprojected our food points data to match, but here we're seeing how to modify the tiles. Reprojecting or *warping* the basemap is handled in the background by specifying `crs=`. Note, that you have to convert the GeoDataFrame CRS representation to a string.\n",
    "\n",
    "The tiles from `contextily` are a form of *raster* or gridded data. We've only worked with vector data so far, but, in fact, we can directly access the basemap raster tiles that are downloaded. The code below opens the imagery with `rasterio`, but the files could also be downloaded an opened with other GIS software."
   ]
  },
  {
   "cell_type": "code",
   "execution_count": null,
   "metadata": {
    "scrolled": true
   },
   "outputs": [],
   "source": [
    "# get the extent of the point data\n",
    "# but we need this in WGS84 to work with contextily\n",
    "# 'total_bounds' gives us an array of coordinates for bounding box\n",
    "bb = food.to_crs(epsg=4326).total_bounds\n",
    "\n",
    "# download tiles to data directory\n",
    "_ = cx.bounds2raster(*bb,\n",
    "                     ll=True,\n",
    "                     path='../data/soton.tif' # save as GeoTiff file\n",
    "                    )"
   ]
  },
  {
   "cell_type": "code",
   "execution_count": null,
   "metadata": {},
   "outputs": [],
   "source": [
    "# access the raster data\n",
    "# load new package for raster data\n",
    "import rasterio\n",
    "from rasterio.plot import show as rioshow\n",
    "\n",
    "# create a dataset reader\n",
    "with rasterio.open(\"soton.tif\") as r:\n",
    "    rioshow(r)"
   ]
  },
  {
   "cell_type": "markdown",
   "metadata": {},
   "source": [
    "Experiment with some of the other available basemaps by changing the `source=` to a different provider. The basemap providers that are available by default are coming from a Leaflet extension. Preview them here: [http://leaflet-extras.github.io/leaflet-providers/preview/](http://leaflet-extras.github.io/leaflet-providers/preview/)\n",
    "\n",
    "Try the satellite imagery ('cx.providers.Esri.WorldImagery'). But sometimes in a map, less is more, a minimalist basemap is more appropriate (such as 'cx.providers.Stamen.TonerLite')."
   ]
  },
  {
   "cell_type": "code",
   "execution_count": null,
   "metadata": {},
   "outputs": [],
   "source": [
    "# Create new plots with food GeoDataFrame and test different basemaps\n",
    "\n",
    "\n",
    "#"
   ]
  },
  {
   "cell_type": "markdown",
   "metadata": {},
   "source": [
    "### Adding additional map elements\n",
    "\n",
    "Our maps are starting to look better. Now we can add basemaps or even satellite imagery to give us a little context for the area we're mapping. But good cartographic design often incorporates a few more details. In this next section we'll add scale bars, to indicate distances, legends to explain the data symbology, and a title. These are all elements you may need to add to publication-ready maps."
   ]
  },
  {
   "cell_type": "markdown",
   "metadata": {},
   "source": [
    "#### Scale bar and north arrow\n",
    "\n",
    "A scale bar is a measured line or patch that depicts distances in the map. Showing distance becomes more difficult when plotting with latitude/longitude since the distance of 1 degree of longitude changes with latitude. But our data are projected (EPSG 27700), so distance is consistently measured in meters in both the x and y direction.\n",
    "\n",
    "To create a scale bar, we'll add a 'patch' in `matplotlib` of a known size. The north arrow uses similar `matplotlib` techniques with annotations."
   ]
  },
  {
   "cell_type": "code",
   "execution_count": null,
   "metadata": {
    "scrolled": false
   },
   "outputs": [],
   "source": [
    "# start by making a base map\n",
    "fig, ax = plt.subplots(figsize=(15,10))\n",
    "\n",
    "food.plot(ax=ax,\n",
    "          c=food['cm'] # use our manual color map\n",
    "         )\n",
    "\n",
    "cx.add_basemap(ax=ax,\n",
    "               crs=food.crs.to_string(),\n",
    "               source=cx.providers.Stamen.TonerLite)\n",
    "\n",
    "# add a scale bar patch area\n",
    "# the scale bar will 3KM in size\n",
    "\n",
    "# specify the location (in x,y coordinates) and length (all in meters)\n",
    "x, y, scale_len = 444800, 110200, 3000  \n",
    "\n",
    "scale_rect = matplotlib.patches.Rectangle((x,y),     # location\n",
    "                                          scale_len, # length\n",
    "                                          100,       # height or thickness of scale bar\n",
    "                                          linewidth=1,\n",
    "                                          edgecolor='k',facecolor='k' # black in colour\n",
    "                                         )\n",
    "# add scale bar onto plot\n",
    "ax.add_patch(scale_rect)\n",
    "\n",
    "# add a label to the scale bar\n",
    "plt.text(x + scale_len/2, y + 400, # locate the label in the center of the bar\n",
    "         s='3 KM', \n",
    "         fontsize=15, \n",
    "         horizontalalignment='center')\n",
    "\n",
    "# add a north arrow\n",
    "# this assumes that North is up on your map\n",
    "# if not - change the direction of the arrow\n",
    "# https://stackoverflow.com/a/58110049/604456\n",
    "\n",
    "# specify location - in figure proportions (not real-world coordinates)\n",
    "x, y, arrow_length = 0.7, 0.15, 0.1\n",
    "\n",
    "ax.annotate('N', #\n",
    "            xy=(x, y), xytext=(x, y-arrow_length),\n",
    "            arrowprops=dict(facecolor='black', width=5, headwidth=15),\n",
    "            ha='center', va='center', fontsize=20,\n",
    "            xycoords=ax.transAxes)\n",
    "\n",
    "plt.show()"
   ]
  },
  {
   "cell_type": "markdown",
   "metadata": {},
   "source": [
    "#### Legend and title\n",
    "\n",
    "We will now add on to our previous mapping script to add in a legend, with appropriate labels, as well as an informative title. We're building the start of a mapping workflow here: building up a script that allows us to make minor changes and improvements and replicate a plot easily. \n",
    "\n",
    "You might also notice that the tiles from `contextily` are no longer slowing you down. That's because the downloaded files have been cached and get reused, making it more efficient to iterate small changes on a plot."
   ]
  },
  {
   "cell_type": "code",
   "execution_count": null,
   "metadata": {
    "scrolled": false
   },
   "outputs": [],
   "source": [
    "# start by making a base map\n",
    "fig, ax = plt.subplots(figsize=(15,10))\n",
    "\n",
    "food.plot('type',\n",
    "          ax=ax,\n",
    "          cmap='Paired', # use a new color map\n",
    "          # THIS IS NEW\n",
    "          legend=True, \n",
    "          categorical=True,\n",
    "          legend_kwds={'loc':'lower left',\n",
    "                       'title':'Food points',\n",
    "                       'fontsize':16,\n",
    "                       'title_fontsize':16\n",
    "                      }\n",
    "         )\n",
    "\n",
    "cx.add_basemap(ax=ax,\n",
    "               crs=food.crs.to_string(),\n",
    "               source=cx.providers.Stamen.TonerLite)\n",
    "\n",
    "# add a scale bar patch area\n",
    "# the scale bar will 3KM in size\n",
    "\n",
    "# specify the location (in x,y coordinates) and length (all in meters)\n",
    "x, y, scale_len = 444800, 110200, 3000  \n",
    "\n",
    "scale_rect = matplotlib.patches.Rectangle((x,y),     # location\n",
    "                                          scale_len, # length\n",
    "                                          100,       # height or thickness of scale bar\n",
    "                                          linewidth=1,\n",
    "                                          edgecolor='k',facecolor='k' # black in colour\n",
    "                                         )\n",
    "# add scale bar onto plot\n",
    "ax.add_patch(scale_rect)\n",
    "\n",
    "# add a label to the scale bar\n",
    "plt.text(x + scale_len/2, y + 400, # locate the label in the center of the bar\n",
    "         s='3 KM', \n",
    "         fontsize=15, \n",
    "         horizontalalignment='center')\n",
    "\n",
    "# add a north arrow\n",
    "# this assumes that North is up on your map\n",
    "# if not - change the direction of the arrow\n",
    "# https://stackoverflow.com/a/58110049/604456\n",
    "\n",
    "# specify location - in figure proportions (not real-world coordinates)\n",
    "x, y, arrow_length = 0.7, 0.15, 0.1\n",
    "\n",
    "ax.annotate('N', #\n",
    "            xy=(x, y), xytext=(x, y-arrow_length),\n",
    "            arrowprops=dict(facecolor='black', width=5, headwidth=15),\n",
    "            ha='center', va='center', fontsize=20,\n",
    "            xycoords=ax.transAxes)\n",
    "\n",
    "# add a title\n",
    "ax.set_title('Southampton food shops', fontdict={'fontsize':18})\n",
    "\n",
    "plt.show()"
   ]
  },
  {
   "cell_type": "markdown",
   "metadata": {},
   "source": [
    "For more complex legends, it may be necessary to plot each layer separately and add a `label` so that you can access and set those properties manually. Right now the plot is using the default attributes for the `type` field.\n",
    "\n",
    "See for an example: [https://www.earthdatascience.org/courses/scientists-guide-to-plotting-data-in-python/plot-spatial-data/customize-vector-plots/python-customize-map-legends-geopandas/](https://www.earthdatascience.org/courses/scientists-guide-to-plotting-data-in-python/plot-spatial-data/customize-vector-plots/python-customize-map-legends-geopandas/)."
   ]
  },
  {
   "cell_type": "markdown",
   "metadata": {},
   "source": [
    "## Thematic maps\n",
    "\n",
    "In this next section we will set aside point maps, and return to *choropleth* mapping with our LSOA data with the distance to supermarkets calculated in the last practical. We briefly saw how `cmap` and different classification patterns can be used. We will look at how those break points are created with `mapclassify` in more detail, how to apply them to the continuous data, and adjust the plotting options."
   ]
  },
  {
   "cell_type": "markdown",
   "metadata": {},
   "source": [
    "### Load the LSOA data"
   ]
  },
  {
   "cell_type": "code",
   "execution_count": null,
   "metadata": {},
   "outputs": [],
   "source": [
    "lsoa = gpd.read_file('../data/soton_lsoa_distance.gpkg')"
   ]
  },
  {
   "cell_type": "code",
   "execution_count": null,
   "metadata": {},
   "outputs": [],
   "source": [
    "lsoa.head()"
   ]
  },
  {
   "cell_type": "markdown",
   "metadata": {},
   "source": [
    "### Map classifications\n",
    "\n",
    "More details on `mapclassify` can be found here: [https://pysal.org/mapclassify/](https://pysal.org/mapclassify/). `GeoPandas` allows us to set the classification 'scheme' directly in the plotting function."
   ]
  },
  {
   "cell_type": "code",
   "execution_count": null,
   "metadata": {},
   "outputs": [],
   "source": [
    "# create a 7 class plot based on \"Natural Breaks\"\n",
    "# use a default colour map pattern\n",
    "lsoa.plot('smkt_dist',\n",
    "          scheme='NaturalBreaks',\n",
    "          k=7,\n",
    "          legend=True,\n",
    "          figsize=(15,10)  # notice we can set the size directly here\n",
    "         )\n",
    "\n",
    "plt.show()"
   ]
  },
  {
   "cell_type": "markdown",
   "metadata": {},
   "source": [
    "Remember, if we don't set the `scheme` then the data are treated as a continuous colormap and you'll see a color bar as the legend type."
   ]
  },
  {
   "cell_type": "code",
   "execution_count": null,
   "metadata": {},
   "outputs": [],
   "source": [
    "lsoa.plot('smkt_dist',\n",
    "          legend=True,\n",
    "         )\n",
    "\n",
    "plt.axis('off') # turn off the \"box\"\n",
    "plt.show()"
   ]
  },
  {
   "cell_type": "markdown",
   "metadata": {},
   "source": [
    "Internally, `mapclassify` is creating a set of breaks for the column of values supplied. We can inspect this directly ourselves."
   ]
  },
  {
   "cell_type": "code",
   "execution_count": null,
   "metadata": {
    "scrolled": false
   },
   "outputs": [],
   "source": [
    "# natural breaks\n",
    "mapclassify.NaturalBreaks(lsoa.smkt_dist, k=7)"
   ]
  },
  {
   "cell_type": "markdown",
   "metadata": {},
   "source": [
    "Another common classifier is to use quantiles."
   ]
  },
  {
   "cell_type": "code",
   "execution_count": null,
   "metadata": {},
   "outputs": [],
   "source": [
    "# create quintiles (k=5)\n",
    "mapclassify.Quantiles(lsoa.smkt_dist, k=5)"
   ]
  },
  {
   "cell_type": "markdown",
   "metadata": {},
   "source": [
    "Try a few other classifiers on your own - looking at the break points or trying them in a map."
   ]
  },
  {
   "cell_type": "code",
   "execution_count": null,
   "metadata": {},
   "outputs": [],
   "source": [
    "# test mapclassify options\n",
    "\n",
    "\n",
    "#"
   ]
  },
  {
   "cell_type": "markdown",
   "metadata": {},
   "source": [
    "#### Histograms\n",
    "\n",
    "A good way to inspect your map classification is to view a histogram of the data. This will show you how the underlying data are distributed and how you might visualise them most effectively."
   ]
  },
  {
   "cell_type": "code",
   "execution_count": null,
   "metadata": {
    "scrolled": true
   },
   "outputs": [],
   "source": [
    "# plot a basic histogram using `Pandas`\n",
    "lsoa['smkt_dist'].plot.hist(bins=50)\n",
    "\n",
    "plt.show()"
   ]
  },
  {
   "cell_type": "code",
   "execution_count": null,
   "metadata": {},
   "outputs": [],
   "source": [
    "# create a classifier and store it to access the bins\n",
    "# Natural Breaks\n",
    "mc = mapclassify.NaturalBreaks(lsoa.smkt_dist, k=7)\n",
    "\n",
    "# plot the historgram\n",
    "lsoa['smkt_dist'].plot.hist(bins=50)\n",
    "\n",
    "# add lines for the classification bins\n",
    "for val in mc.bins:\n",
    "    plt.axvline(val, \n",
    "                color='k',\n",
    "                linestyle='dashed',\n",
    "                linewidth=1\n",
    "               )\n",
    "\n",
    "plt.show()"
   ]
  },
  {
   "cell_type": "markdown",
   "metadata": {
    "collapsed": true
   },
   "source": [
    "Now check the breaks for a quantile classification."
   ]
  },
  {
   "cell_type": "code",
   "execution_count": null,
   "metadata": {},
   "outputs": [],
   "source": [
    "# create a classifier and store it to access the bins\n",
    "# Quintiles\n",
    "mc = mapclassify.Quantiles(lsoa.smkt_dist, k=5)\n",
    "\n",
    "# plot the historgram\n",
    "lsoa['smkt_dist'].plot.hist(bins=50)\n",
    "\n",
    "# add lines for the classification bins\n",
    "for val in mc.bins:\n",
    "    plt.axvline(val, \n",
    "                color='k',\n",
    "                linestyle='dashed',\n",
    "                linewidth=1\n",
    "               )\n",
    "\n",
    "plt.show()"
   ]
  },
  {
   "cell_type": "markdown",
   "metadata": {},
   "source": [
    "### Applying different legends\n",
    "\n",
    "Let's take what we've learned about reclassifying our data and building legends to start to make a better looking map. Experiment with the code below to make your own map."
   ]
  },
  {
   "cell_type": "code",
   "execution_count": null,
   "metadata": {},
   "outputs": [],
   "source": [
    "# create the figure\n",
    "fig, ax = plt.subplots(figsize=(15,10))\n",
    "\n",
    "# plot the LSOA data\n",
    "lsoa.plot('smkt_dist',\n",
    "          legend=True,\n",
    "          legend_kwds={'title':'Distance (m)',\n",
    "                       'title_fontsize':16,\n",
    "                       'loc':'lower left'\n",
    "                      },\n",
    "          scheme='quantiles',\n",
    "          k=4,\n",
    "          cmap='Greens',\n",
    "          edgecolor='k',  # darken the LSOA borders\n",
    "          ax=ax\n",
    "         )\n",
    "\n",
    "# add a title\n",
    "ax.set_title('Southampton Distance to Supermarkets',\n",
    "            fontsize=24)\n",
    "# remove the \"box\" for a clean look\n",
    "ax.axis('off')\n",
    "\n",
    "plt.show()"
   ]
  },
  {
   "cell_type": "markdown",
   "metadata": {},
   "source": [
    "## Controlling layers\n",
    "\n",
    "Let's continue to improve on our choropleth map of supermarket distance. We'll add in an overlay of all the supermarket location points. Then we'll see how we can control a few other options for how to symbolise the data."
   ]
  },
  {
   "cell_type": "code",
   "execution_count": null,
   "metadata": {
    "scrolled": false
   },
   "outputs": [],
   "source": [
    "# create the figure\n",
    "fig, ax = plt.subplots(figsize=(15,10))\n",
    "\n",
    "# plot the LSOA data\n",
    "lsoa.plot('smkt_dist',\n",
    "          legend=True,\n",
    "          legend_kwds={'title':'Distance (m)',\n",
    "                       'title_fontsize':16,\n",
    "                       'loc':'lower left'\n",
    "                      },\n",
    "          scheme='quantiles',\n",
    "          k=4,\n",
    "          cmap='Greens',\n",
    "          edgecolor='k',  # darken the LSOA borders\n",
    "          ax=ax\n",
    "         )\n",
    "\n",
    "# THIS IS NEW\n",
    "pts = plt.scatter(smkt.geometry.x, smkt.geometry.y, \n",
    "                  color='blue')\n",
    "\n",
    "# add a title\n",
    "ax.set_title('Southampton Distance to Supermarkets',\n",
    "            fontsize=24)\n",
    "# remove the \"box\" for a clean look\n",
    "ax.axis('off')\n",
    "\n",
    "plt.show()"
   ]
  },
  {
   "cell_type": "markdown",
   "metadata": {},
   "source": [
    "## Saving maps\n",
    "\n",
    "Once we have a created a map we're happy with, let's save it out to a file that we can share or include in a report or presentation."
   ]
  },
  {
   "cell_type": "code",
   "execution_count": null,
   "metadata": {},
   "outputs": [],
   "source": [
    "# create the figure\n",
    "fig, ax = plt.subplots(figsize=(15,10))\n",
    "\n",
    "# plot the LSOA data\n",
    "lsoa.plot('smkt_dist',\n",
    "          legend=True,\n",
    "          legend_kwds={'title':'Distance (m)',\n",
    "                       'title_fontsize':16,\n",
    "                       'loc':'lower left'\n",
    "                      },\n",
    "          scheme='quantiles',\n",
    "          k=4,\n",
    "          cmap='Greens',\n",
    "          edgecolor='k',  # darken the LSOA borders\n",
    "          ax=ax\n",
    "         )\n",
    "\n",
    "# THIS IS NEW\n",
    "pts = plt.scatter(smkt.geometry.x, smkt.geometry.y, \n",
    "                  color='blue')\n",
    "\n",
    "# add a title\n",
    "ax.set_title('Southampton Distance to Supermarkets',\n",
    "            fontsize=24)\n",
    "# remove the \"box\" for a clean look\n",
    "ax.axis('off')\n",
    "\n",
    "# SAVE with a DPI of 300\n",
    "plt.savefig('soton_test.png', dpi=300)"
   ]
  },
  {
   "cell_type": "markdown",
   "metadata": {},
   "source": [
    "Finished! Well done!"
   ]
  }
 ],
 "metadata": {
  "kernelspec": {
   "display_name": "Python 3",
   "language": "python",
   "name": "python3"
  },
  "language_info": {
   "codemirror_mode": {
    "name": "ipython",
    "version": 3
   },
   "file_extension": ".py",
   "mimetype": "text/x-python",
   "name": "python",
   "nbconvert_exporter": "python",
   "pygments_lexer": "ipython3",
   "version": "3.8.5"
  }
 },
 "nbformat": 4,
 "nbformat_minor": 4
}
