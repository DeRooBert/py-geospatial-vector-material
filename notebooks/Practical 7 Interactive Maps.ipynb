{
 "cells": [
  {
   "cell_type": "markdown",
   "metadata": {},
   "source": [
    "# Practical 7: Interactive maps\n",
    "\n",
    "In this final practial of the workshop we will create interactive maps. We will revisit some of the choropleth mapping techniques and we will explore some other mapping techniques, too. Interactive maps can be a great option for displaying and sharing data online. Viewers have the option to interact with your visualisation, making it more engaging.\n",
    "\n",
    "We will continue to work with our example data from Southampton, although we will look at a few different datasets from before.\n",
    "\n",
    "Learning objectives:\n",
    "* create an interactive map with basemap and multiple layers\n",
    "* save the output as a `.html` file\n",
    "* display attribute information in pop-up windows\n",
    "* create density map and know when to apply this technique\n"
   ]
  },
  {
   "cell_type": "markdown",
   "metadata": {},
   "source": [
    "## Preparations for mapping\n",
    "\n",
    "To make our interactive maps, we will be using `folium`. This package links with the `leaflet.js` library ([https://leafletjs.com/](https://leafletjs.com/)).\n",
    "\n",
    "The documentation for `folium` can be found here: [https://python-visualization.github.io/folium/](https://python-visualization.github.io/folium/). We'll point a few key features as we go along, but be sure to pay attention to your CRS (again!). `folium` maps need inputs in latitude/longitude, so we'll be reprojecting from EPSG:27700. We will also need to convert our `GeoDataFrames` into GeoJSON formats."
   ]
  },
  {
   "cell_type": "code",
   "execution_count": null,
   "metadata": {},
   "outputs": [],
   "source": [
    "# load the packages\n",
    "import geopandas as gpd\n",
    "import folium"
   ]
  },
  {
   "cell_type": "markdown",
   "metadata": {},
   "source": [
    "### Making a simple basemap\n",
    "\n",
    "An overview map with a set of tiles for a basemap can be created with just a couple lines of code. \n",
    "\n",
    "We will supply the `.Map` with a `location` to tell it where to center the map initially, as well as an initial zoom level. Zoom levels are values from typically 0 to 18. Small numbers are \"zoomed out\" while higher numbers are \"zoomed in\"."
   ]
  },
  {
   "cell_type": "code",
   "execution_count": null,
   "metadata": {
    "scrolled": false
   },
   "outputs": [],
   "source": [
    "# simple basemap\n",
    "# create an instance of a `Map`\n",
    "m = folium.Map(location=[50.934358, -1.399073],  # latitude, longitude\n",
    "               zoom_start=15\n",
    "              )\n",
    "\n",
    "# show the map\n",
    "m"
   ]
  },
  {
   "cell_type": "markdown",
   "metadata": {},
   "source": [
    "Try panning and zooming the map. Leaflet maps are very common on the internet now, so this should seem familiar to you."
   ]
  },
  {
   "cell_type": "markdown",
   "metadata": {},
   "source": [
    "### Changing the basemap tiles\n",
    "\n",
    "By default our basempa is using OpenStreetMap tiles. There are few other sets of tiles available from Leaflet. Other tiles can be accessed if you have accounts with providers.\n",
    "\n",
    "To change the basemap, set `tiles` parameter."
   ]
  },
  {
   "cell_type": "code",
   "execution_count": null,
   "metadata": {},
   "outputs": [],
   "source": [
    "# changing the basemap\n",
    "m = folium.Map(location=[50.934358, -1.399073], \n",
    "               tiles='Stamen watercolor',  # artisitc basemap style\n",
    "               zoom_start=15\n",
    "              )\n",
    "\n",
    "# show the map\n",
    "m"
   ]
  },
  {
   "cell_type": "markdown",
   "metadata": {},
   "source": [
    "We can also add another basemap to our `Map`. This step will not create a new map object, but add a layer as an option. We will also add a new control object to the map so that a user can toggle on/off the basemap of their choice.\n",
    "\n",
    "Notice the layer control button in the upper-right of the map below"
   ]
  },
  {
   "cell_type": "code",
   "execution_count": null,
   "metadata": {},
   "outputs": [],
   "source": [
    "# add basemap option\n",
    "folium.TileLayer('stamentoner').add_to(m)\n",
    "\n",
    "# add a control to select layers\n",
    "folium.LayerControl().add_to(m)\n",
    "\n",
    "m"
   ]
  },
  {
   "cell_type": "markdown",
   "metadata": {},
   "source": [
    "### Load the data\n",
    "\n",
    "This is great to be able to quickly create an interactive basemap, but we need to add in our own data. See this step as part of a large workflow - you can do various data cleaning and spatial analysis steps using `GeoPandas` and the other Python tools and then create sophisticated visualisations \n",
    "\n",
    "Let's load up the food point locations for Southampton."
   ]
  },
  {
   "cell_type": "code",
   "execution_count": null,
   "metadata": {},
   "outputs": [],
   "source": [
    "# load supermarkets\n",
    "smkt = gpd.read_file('../data/soton_smkts.gpkg')\n",
    "# convert from multipoint to single point\n",
    "smkt = smkt.explode()\n",
    "# project to WGS84\n",
    "smkt = smkt.to_crs(4326)\n",
    "\n",
    "smkt.head()"
   ]
  },
  {
   "cell_type": "code",
   "execution_count": null,
   "metadata": {},
   "outputs": [],
   "source": [
    "# load fast food restaurants\n",
    "ff = gpd.read_file('../data/soton_fastfood.gpkg')\n",
    "# convert from multipoin to single point\n",
    "ff = ff.explode()\n",
    "# reproject to WGS84\n",
    "ff = ff.to_crs(4326)\n",
    "\n",
    "ff.head()"
   ]
  },
  {
   "cell_type": "markdown",
   "metadata": {},
   "source": [
    "## Simple marker map\n",
    "\n",
    "In order add these points to our map, we have to convert our DataFrames into GeoJSON format and then create a new layer of `Markers`. "
   ]
  },
  {
   "cell_type": "code",
   "execution_count": null,
   "metadata": {},
   "outputs": [],
   "source": [
    "# conversion\n",
    "ff_gj = folium.features.GeoJson(ff, \n",
    "                                name='Fast Food'  # give the layer a name\n",
    "                               )"
   ]
  },
  {
   "cell_type": "code",
   "execution_count": null,
   "metadata": {},
   "outputs": [],
   "source": [
    "# create a fresh map\n",
    "m = folium.Map(location=[50.934358, -1.399073],\n",
    "               zoom_start=12,\n",
    "               control_scale=True  # add a scale bar to the map\n",
    "              )\n",
    "\n",
    "# add the points\n",
    "ff_gj.add_to(m)\n",
    "\n",
    "# include control for turning on/off points\n",
    "folium.LayerControl().add_to(m)\n",
    "\n",
    "# show the map\n",
    "m"
   ]
  },
  {
   "cell_type": "markdown",
   "metadata": {},
   "source": [
    "### Multiple layers\n",
    "\n",
    "We will now add another set of markers for our supermarkets, but we're going to do it differently to show how to create `Markers`. This will not convert the GeoDataFrame to GeoJSON, but it will access the coordinates in a loop across the features. This process will also let us easily set a custom icon colour for the supermarket layer."
   ]
  },
  {
   "cell_type": "code",
   "execution_count": null,
   "metadata": {},
   "outputs": [],
   "source": [
    "# create basemap\n",
    "m = folium.Map(location=[50.934358, -1.399073],\n",
    "               zoom_start=12,\n",
    "               control_scale=True  # add a scale bar to the map\n",
    "              )\n",
    "\n",
    "# add the fast food points (default blue colour)\n",
    "ff_gj.add_to(m)\n",
    "\n",
    "# add the supermarket points the map\n",
    "for idx, feature in smkt.iterrows():\n",
    "    marker = folium.map.Marker([feature['geometry'].y, feature['geometry'].x], \n",
    "                               icon=folium.Icon(color='green')\n",
    "                              ).add_to(m)\n",
    "\n",
    "# show the results\n",
    "m"
   ]
  },
  {
   "cell_type": "markdown",
   "metadata": {},
   "source": [
    "### Clustering markers\n",
    "\n",
    "Interactive maps can sometimes look a bit too cluttered with markers, especially when zoomed out further. One solution for this is to cluster the markers into groups that are visible when a user moves in closer. We'll revise our map to cluster the fast food points and add this as a new layer"
   ]
  },
  {
   "cell_type": "code",
   "execution_count": null,
   "metadata": {},
   "outputs": [],
   "source": []
  },
  {
   "cell_type": "markdown",
   "metadata": {},
   "source": [
    "## Heat maps"
   ]
  },
  {
   "cell_type": "markdown",
   "metadata": {},
   "source": [
    "## Choropleth maps"
   ]
  },
  {
   "cell_type": "markdown",
   "metadata": {},
   "source": [
    "### Colormaps and symbology"
   ]
  },
  {
   "cell_type": "markdown",
   "metadata": {},
   "source": [
    "### Tooltips and pop-ups"
   ]
  },
  {
   "cell_type": "markdown",
   "metadata": {},
   "source": [
    "## Saving the outputs"
   ]
  }
 ],
 "metadata": {
  "kernelspec": {
   "display_name": "Python 3",
   "language": "python",
   "name": "python3"
  },
  "language_info": {
   "codemirror_mode": {
    "name": "ipython",
    "version": 3
   },
   "file_extension": ".py",
   "mimetype": "text/x-python",
   "name": "python",
   "nbconvert_exporter": "python",
   "pygments_lexer": "ipython3",
   "version": "3.8.5"
  }
 },
 "nbformat": 4,
 "nbformat_minor": 4
}
