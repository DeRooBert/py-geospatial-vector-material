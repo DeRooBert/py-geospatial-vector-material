{
 "cells": [
  {
   "cell_type": "markdown",
   "metadata": {},
   "source": [
    "# Practical 7: Interactive maps\n",
    "\n",
    "In this final practial of the workshop we will create interactive maps. We will revisit some of the choropleth mapping techniques and we will explore some other mapping techniques, too. Interactive maps can be a great option for displaying and sharing data online. Viewers have the option to interact with your visualisation, making it more engaging.\n",
    "\n",
    "We will continue to work with our example data from Southampton, although we will look at a few different datasets from before.\n",
    "\n",
    "Learning objectives:\n",
    "* create an interactive map with basemap and multiple layers\n",
    "* save the output as a `.html` file\n",
    "* display attribute information in pop-up windows\n",
    "* create density map and know when to apply this technique\n"
   ]
  },
  {
   "cell_type": "markdown",
   "metadata": {},
   "source": [
    "## Preparations for mapping\n",
    "\n",
    "To make our interactive maps, we will be using `folium`. This package links with the `leaflet.js` library ([https://leafletjs.com/](https://leafletjs.com/)).\n",
    "\n",
    "The documentation for `folium` can be found here: [https://python-visualization.github.io/folium/](https://python-visualization.github.io/folium/). We'll point a few key features as we go along, but be sure to pay attention to your CRS (again!). `folium` maps need inputs in latitude/longitude, so we'll be reprojecting from EPSG:27700. We will also need to convert our `GeoDataFrames` into GeoJSON formats."
   ]
  },
  {
   "cell_type": "code",
   "execution_count": null,
   "metadata": {},
   "outputs": [],
   "source": [
    "# load the packages\n",
    "import geopandas as gpd\n",
    "import folium\n",
    "import matplotlib.pyplot as plt"
   ]
  },
  {
   "cell_type": "markdown",
   "metadata": {},
   "source": [
    "### Making a simple basemap\n",
    "\n",
    "An overview map with a set of tiles for a basemap can be created with just a couple lines of code. \n",
    "\n",
    "We will supply the `.Map` with a `location` to tell it where to center the map initially, as well as an initial zoom level. Zoom levels are values from typically 0 to 18. Small numbers are \"zoomed out\" while higher numbers are \"zoomed in\"."
   ]
  },
  {
   "cell_type": "code",
   "execution_count": null,
   "metadata": {
    "scrolled": false
   },
   "outputs": [],
   "source": [
    "# simple basemap\n",
    "# create an instance of a `Map`\n",
    "m = folium.Map(location=[50.934358, -1.399073],  # latitude, longitude\n",
    "               zoom_start=15\n",
    "              )\n",
    "\n",
    "# show the map\n",
    "m"
   ]
  },
  {
   "cell_type": "markdown",
   "metadata": {},
   "source": [
    "Try panning and zooming the map. Leaflet maps are very common on the internet now, so this should seem familiar to you."
   ]
  },
  {
   "cell_type": "markdown",
   "metadata": {},
   "source": [
    "### Changing the basemap tiles\n",
    "\n",
    "By default our basempa is using OpenStreetMap tiles. There are few other sets of tiles available from Leaflet. Other tiles can be accessed if you have accounts with providers.\n",
    "\n",
    "To change the basemap, set `tiles` parameter."
   ]
  },
  {
   "cell_type": "code",
   "execution_count": null,
   "metadata": {},
   "outputs": [],
   "source": [
    "# changing the basemap\n",
    "m = folium.Map(location=[50.934358, -1.399073], \n",
    "               tiles='Stamen watercolor',  # artisitc basemap style\n",
    "               zoom_start=15\n",
    "              )\n",
    "\n",
    "# show the map\n",
    "m"
   ]
  },
  {
   "cell_type": "markdown",
   "metadata": {},
   "source": [
    "We can also add another basemap to our `Map`. This step will not create a new map object, but add a layer as an option. We will also add a new control object to the map so that a user can toggle on/off the basemap of their choice.\n",
    "\n",
    "Notice the layer control button in the upper-right of the map below"
   ]
  },
  {
   "cell_type": "code",
   "execution_count": null,
   "metadata": {},
   "outputs": [],
   "source": [
    "# add basemap option\n",
    "folium.TileLayer('stamentoner').add_to(m)\n",
    "\n",
    "# add a control to select layers\n",
    "folium.LayerControl().add_to(m)\n",
    "\n",
    "m"
   ]
  },
  {
   "cell_type": "markdown",
   "metadata": {},
   "source": [
    "### Load the data\n",
    "\n",
    "This is great to be able to quickly create an interactive basemap, but we need to add in our own data. See this step as part of a large workflow - you can do various data cleaning and spatial analysis steps using `GeoPandas` and the other Python tools and then create sophisticated visualisations \n",
    "\n",
    "Let's load up the food point locations for Southampton."
   ]
  },
  {
   "cell_type": "code",
   "execution_count": null,
   "metadata": {},
   "outputs": [],
   "source": [
    "# load supermarkets\n",
    "smkt = gpd.read_file('../data/soton_smkts.gpkg')\n",
    "# convert from multipoint to single point\n",
    "smkt = smkt.explode()\n",
    "# project to WGS84\n",
    "smkt = smkt.to_crs(4326)\n",
    "\n",
    "smkt.head()"
   ]
  },
  {
   "cell_type": "code",
   "execution_count": null,
   "metadata": {},
   "outputs": [],
   "source": [
    "# load fast food restaurants\n",
    "ff = gpd.read_file('../data/soton_fastfood.gpkg')\n",
    "# convert from multipoin to single point\n",
    "ff = ff.explode()\n",
    "# reproject to WGS84\n",
    "ff = ff.to_crs(4326)\n",
    "\n",
    "ff.head()"
   ]
  },
  {
   "cell_type": "markdown",
   "metadata": {},
   "source": [
    "## Simple marker map\n",
    "\n",
    "In order add these points to our map, we have to convert our DataFrames into GeoJSON format and then create a new layer of `Markers`. "
   ]
  },
  {
   "cell_type": "code",
   "execution_count": null,
   "metadata": {},
   "outputs": [],
   "source": [
    "# conversion\n",
    "ff_gj = folium.features.GeoJson(ff, \n",
    "                                name='Fast Food'  # give the layer a name\n",
    "                               )"
   ]
  },
  {
   "cell_type": "code",
   "execution_count": null,
   "metadata": {},
   "outputs": [],
   "source": [
    "# create a fresh map\n",
    "m = folium.Map(location=[50.934358, -1.399073],\n",
    "               zoom_start=12,\n",
    "               control_scale=True  # add a scale bar to the map\n",
    "              )\n",
    "\n",
    "# add the points\n",
    "ff_gj.add_to(m)\n",
    "\n",
    "# include control for turning on/off points\n",
    "folium.LayerControl().add_to(m)\n",
    "\n",
    "# show the map\n",
    "m"
   ]
  },
  {
   "cell_type": "markdown",
   "metadata": {},
   "source": [
    "### Multiple layers\n",
    "\n",
    "We will now add another set of markers for our supermarkets, but we're going to do it differently to show how to create `Markers`. This will not convert the GeoDataFrame to GeoJSON, but it will access the coordinates in a loop across the features. This process will also let us easily set a custom icon colour for the supermarket layer."
   ]
  },
  {
   "cell_type": "code",
   "execution_count": null,
   "metadata": {},
   "outputs": [],
   "source": [
    "# create basemap\n",
    "m = folium.Map(location=[50.934358, -1.399073],\n",
    "               zoom_start=12,\n",
    "               control_scale=True  # add a scale bar to the map\n",
    "              )\n",
    "\n",
    "# add the fast food points (default blue colour)\n",
    "ff_gj.add_to(m)\n",
    "\n",
    "# add the supermarket points the map\n",
    "for idx, feature in smkt.iterrows():\n",
    "    marker = folium.map.Marker([feature['geometry'].y, feature['geometry'].x], \n",
    "                               icon=folium.Icon(color='green')\n",
    "                              ).add_to(m)\n",
    "\n",
    "# show the results\n",
    "m"
   ]
  },
  {
   "cell_type": "markdown",
   "metadata": {},
   "source": [
    "### Clustering markers\n",
    "\n",
    "Interactive maps can sometimes look a bit too cluttered with markers, especially when zoomed out further. One solution for this is to cluster the markers into groups that are visible when a user moves in closer. We'll revise our map to cluster the fast food points and add this as a new layer.\n",
    "\n",
    "We will make use of one `folium`'s useful plugins: [`MarkerCluster`](https://github.com/python-visualization/folium/blob/master/examples/MarkerCluster.ipynb)."
   ]
  },
  {
   "cell_type": "code",
   "execution_count": null,
   "metadata": {},
   "outputs": [],
   "source": [
    "from folium.plugins import MarkerCluster"
   ]
  },
  {
   "cell_type": "code",
   "execution_count": null,
   "metadata": {},
   "outputs": [],
   "source": [
    "# start with a base map\n",
    "m = folium.Map(location=[50.934358, -1.399073],\n",
    "               zoom_start=12,\n",
    "               control_scale=True\n",
    "              )"
   ]
  },
  {
   "cell_type": "code",
   "execution_count": null,
   "metadata": {},
   "outputs": [],
   "source": [
    "# create a set of locations from the fast food points\n",
    "# lists of coordinate pairs in lat, long\n",
    "locns = list(zip(ff.geometry.y, ff.geometry.x))"
   ]
  },
  {
   "cell_type": "code",
   "execution_count": null,
   "metadata": {},
   "outputs": [],
   "source": [
    "# create the marker clusters\n",
    "mc = MarkerCluster(locns)\n",
    "\n",
    "# add to the map\n",
    "mc.add_to(m)\n",
    "\n",
    "# show the map\n",
    "m"
   ]
  },
  {
   "cell_type": "markdown",
   "metadata": {},
   "source": [
    "Try hovering over each cluster and then clicking. Or zooming in or out on the data."
   ]
  },
  {
   "cell_type": "markdown",
   "metadata": {},
   "source": [
    "## Heat maps\n",
    "\n",
    "Sometimes our objective with a map is not to show individual features (like a set of points), but to highlight the broader spatial pattern. In the case of fast food restaurants, we may want a map to highlight areas with a greater density of sites. We can use a different type of map, one which is often called a *heat map*. \n",
    "\n",
    "Heat maps use a 2D kernel to express the density of point locations as a surface. Another plugin within `folium` provides easy access to this functionality."
   ]
  },
  {
   "cell_type": "markdown",
   "metadata": {},
   "source": [
    "#### Side note:\n",
    "\n",
    "To create kernel density (i.e. heat maps) in a static map, we can use `seaborn`'s `kdeplot` ([https://seaborn.pydata.org/generated/seaborn.kdeplot.html](https://seaborn.pydata.org/generated/seaborn.kdeplot.html))."
   ]
  },
  {
   "cell_type": "code",
   "execution_count": null,
   "metadata": {},
   "outputs": [],
   "source": [
    "# load plugin\n",
    "from folium.plugins import HeatMap"
   ]
  },
  {
   "cell_type": "code",
   "execution_count": null,
   "metadata": {},
   "outputs": [],
   "source": [
    "# create a new, clean basemap\n",
    "m = folium.Map(location=[50.934358, -1.399073],\n",
    "               zoom_start=12,\n",
    "               control_scale=True\n",
    "              )"
   ]
  },
  {
   "cell_type": "code",
   "execution_count": null,
   "metadata": {
    "scrolled": false
   },
   "outputs": [],
   "source": [
    "# calculate a heat map\n",
    "# use locations (see above)\n",
    "hm = HeatMap(locns, \n",
    "             name='FF_heatmap'\n",
    "            )\n",
    "\n",
    "# add to map\n",
    "hm.add_to(m)\n",
    "\n",
    "# add control\n",
    "folium.LayerControl().add_to(m)\n",
    "\n",
    "m"
   ]
  },
  {
   "cell_type": "markdown",
   "metadata": {},
   "source": [
    "There are a lot of restaurants in the city centre and Shirley High Street!\n",
    "\n",
    "Interactive heat maps are scale (or zoom) dependent. Notice how the density changes as you zoom in and out. Try creating another heat map with fast food locations and alter the `radius` (default 25) and `blur` (default 15) options."
   ]
  },
  {
   "cell_type": "code",
   "execution_count": null,
   "metadata": {},
   "outputs": [],
   "source": [
    "# create a new heat map layer\n",
    "# adjust radius=, and blur=\n",
    "\n",
    "\n",
    "#"
   ]
  },
  {
   "cell_type": "markdown",
   "metadata": {},
   "source": [
    "## Choropleth maps\n",
    "\n",
    "We will return now to the common choropleth map that we introduced in the previous practicals on static maps. Since we're now building interactive maps, we can add a few new features to these, including pop-ups and actions when a user hovers over the data.\n",
    "\n",
    "To make things a bit more interesting, we will also introduce a new dataset and review some previous processing steps on merging data.\n",
    "\n",
    "The data we are using are the Index of Multiple Deprivation (IMD) which ranks each LSOA based on multiple criteria. We'll map the decile ranks. Values of 1 are among the most deprived areas. Values of 10 are among the least deprived 10% of areas in all of England. Find out more about these data here: [https://www.gov.uk/government/statistics/english-indices-of-deprivation-2019](https://www.gov.uk/government/statistics/english-indices-of-deprivation-2019)."
   ]
  },
  {
   "cell_type": "code",
   "execution_count": null,
   "metadata": {},
   "outputs": [],
   "source": [
    "import pandas as pd\n",
    "\n",
    "# load the LSOA boundary data\n",
    "lsoa = gpd.read_file('../data/soton_lsoa_distance.gpkg')\n",
    "\n",
    "# load IMD table\n",
    "imd = pd.read_csv('../data/IMD2019_Index_of_Multiple_Deprivation.csv')\n",
    "# rename columns for convenience\n",
    "imd = imd.rename(columns={'LSOA code (2011)':'lsoa',\n",
    "                          'Index of Multiple Deprivation (IMD) Decile':'imd_decile'\n",
    "                         })\n",
    "imd = imd[['lsoa','imd_decile']]"
   ]
  },
  {
   "cell_type": "code",
   "execution_count": null,
   "metadata": {},
   "outputs": [],
   "source": [
    "imd.head()"
   ]
  },
  {
   "cell_type": "code",
   "execution_count": null,
   "metadata": {},
   "outputs": [],
   "source": [
    "# create an inner join to keep only Southampton records\n",
    "lsoa = lsoa.merge(imd, on='lsoa')"
   ]
  },
  {
   "cell_type": "code",
   "execution_count": null,
   "metadata": {},
   "outputs": [],
   "source": [
    "lsoa.head()"
   ]
  },
  {
   "cell_type": "code",
   "execution_count": null,
   "metadata": {},
   "outputs": [],
   "source": [
    "# make a simple static map of the index of multiple deprivation\n",
    "lsoa.plot('imd_decile',\n",
    "          categorical=True,\n",
    "          legend=True,\n",
    "          cmap='Reds',\n",
    "          figsize=(15,10)\n",
    "         )\n",
    "\n",
    "plt.show()"
   ]
  },
  {
   "cell_type": "markdown",
   "metadata": {},
   "source": [
    "Now if we want to create a similar map, but interactive using the tools from `folium`, we need to do a bit a preparation first."
   ]
  },
  {
   "cell_type": "markdown",
   "metadata": {},
   "source": [
    "#### Interactive format"
   ]
  },
  {
   "cell_type": "code",
   "execution_count": null,
   "metadata": {},
   "outputs": [],
   "source": []
  },
  {
   "cell_type": "markdown",
   "metadata": {},
   "source": [
    "### Colormaps and symbology"
   ]
  },
  {
   "cell_type": "markdown",
   "metadata": {},
   "source": [
    "### Tooltips and pop-ups"
   ]
  },
  {
   "cell_type": "markdown",
   "metadata": {},
   "source": [
    "## Saving the outputs"
   ]
  }
 ],
 "metadata": {
  "kernelspec": {
   "display_name": "Python 3",
   "language": "python",
   "name": "python3"
  },
  "language_info": {
   "codemirror_mode": {
    "name": "ipython",
    "version": 3
   },
   "file_extension": ".py",
   "mimetype": "text/x-python",
   "name": "python",
   "nbconvert_exporter": "python",
   "pygments_lexer": "ipython3",
   "version": "3.8.5"
  }
 },
 "nbformat": 4,
 "nbformat_minor": 4
}
