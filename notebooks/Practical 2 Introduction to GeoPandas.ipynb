{
 "cells": [
  {
   "cell_type": "markdown",
   "metadata": {},
   "source": [
    "# Introduction to GeoPandas and Geospatial Vector Data\n",
    "\n",
    "In this second practical session we will begin more hands-on work with geospatial *vector* data (i.e. points, lines, and polygons). We will also introduce the `GeoPandas` package and explore some of its key features for working with this type of data.\n",
    "\n",
    "Objectives:\n",
    "* Read/write spatial vector datasets in different formats\n",
    "* Create/convert/view geometry data\n",
    "* Produce basic plots of spatial data\n"
   ]
  },
  {
   "cell_type": "code",
   "execution_count": null,
   "metadata": {},
   "outputs": [],
   "source": [
    "# load main packages\n",
    "import geopandas as gpd\n",
    "import pandas as pd"
   ]
  },
  {
   "cell_type": "markdown",
   "metadata": {},
   "source": [
    "## Overview and helpful links\n",
    "\n",
    "Remember that GeoPandas is a developing project that makes dealing with geospatial data in Python much easier. It leverages components from several other projects, including `pandas`, `shapely`, and `fiona`. \n",
    "\n",
    "To learn more and to find the documentation to these projects following these links:\n",
    "* GeoPandas\n",
    "    * [https://geopandas.org/](https://geopandas.org/)\n",
    "    * [https://geopandas.readthedocs.io/en/latest/](https://geopandas.readthedocs.io/en/latest/)\n",
    "* pandas - for DataFrames\n",
    "    * [https://pandas.pydata.org/](https://pandas.pydata.org/)\n",
    "* shapely - for geometry\n",
    "    * [https://shapely.readthedocs.io/en/latest/](https://shapely.readthedocs.io/en/latest/)\n",
    "* fiona - for file I/O\n",
    "    * [https://fiona.readthedocs.io/en/latest/](https://fiona.readthedocs.io/en/latest/)\n",
    "\n",
    "Under the hood, these packages rely on other libraries like GDAL/OGR ([https://www.osgeo.org/projects/gdal/](https://www.osgeo.org/projects/gdal/)) and proj ([https://www.osgeo.org/projects/proj/](https://www.osgeo.org/projects/proj/)).\n",
    "\n",
    "Refer back to the documentation as you explore the practicals during this workshop. There are many helpful features and we won't be able to cover everything.\n"
   ]
  },
  {
   "cell_type": "markdown",
   "metadata": {},
   "source": [
    "### Background on working with tabular data\n",
    "\n",
    "The practicals will try to give enough guidance and examples of working with different data types, but if you have less experience with `pandas` you may want to refer back to some of the other tutorials for additional help along the way.\n",
    "\n",
    "* [https://pandas.pydata.org/pandas-docs/stable/getting_started/tutorials.html](https://pandas.pydata.org/pandas-docs/stable/getting_started/tutorials.html)"
   ]
  },
  {
   "cell_type": "markdown",
   "metadata": {},
   "source": [
    "## Geospatial vector data\n",
    "\n",
    "There are different mathematical data models that can be used to represent objects, surfaces, or other geographic phenomena. These specify how data are defined, organised, updated, and queried. The *vector* data model is one example (and as we discussed in the lecture, it is usually contrasted with the *raster* data model).\n",
    "\n",
    "Vector data represent features whose geometry can consist of:\n",
    "* Points - a vertex or position in space with X, Y, and optionally Z coordinates\n",
    "\n",
    "* Lines - sets of vertices linked by paths where the start and ending point are not the same location\n",
    "\n",
    "* Polygons - a closed shape formed by a set of vertices and paths in a set order, where the start and ending point are the same\n",
    "\n",
    "Don't confuse the data model with a specific file format. There are now several different file formats that can be used to store geospatial vector data (see also: [https://en.wikipedia.org/wiki/GIS_file_formats](https://en.wikipedia.org/wiki/GIS_file_formats)).\n",
    "\n",
    "The *shapefile* is still a well-known and common file format because it is used by a major GIS software company ESRI). Other common formats you're likely to encounter are: *geopackages* and *GeoJSON* files. You might notice that the files we're using in the `\\data` directory are compressed (&ast;.zip). This is mostly for convenience of storing them on Github. Working with your own data you may want to leave them unzipped.\n",
    "\n",
    "Try unzipping one of the shapefiles (&ast;.shp.zip). You will see that it isn't one file, but a collection of several files. These contain the geometry, the attributes, coordinate information. And you have to keep them all together.\n",
    "\n",
    "If you unzip one of the geopackages (&ast;.gpkg.zip) and inspect it, you will see that inside is actually a SQLite database (which adhere to certain standards: [https://www.geopackage.org/](https://www.geopackage.org/)). There are manay ways to work with vector data files, and we're going to focus just on using `GeoPandas` and Python.\n",
    "\n",
    "Regardless of the format of the vector data, `fiona` makes it easy to read into GeoPandas using the `geopandas.read_file` command.\n"
   ]
  },
  {
   "cell_type": "code",
   "execution_count": null,
   "metadata": {},
   "outputs": [],
   "source": [
    "# load an example of vector data\n",
    "# we will use a set of US states from the US Census Bureau\n",
    "gdf = gpd.read_file('zip://../data/cb_2018_us_state_500k.zip')  # note the use of zip:// + relative path\n",
    "# paths may need to be changed if you are running the notebook locally\n",
    "\n",
    "# if we have an uncompressed shapefile instead, point towards the *.shp file: gpd.read_file('\\path\\to\\data.shp')"
   ]
  },
  {
   "cell_type": "markdown",
   "metadata": {},
   "source": [
    "## Linking place and attributes\n",
    "\n",
    "The key idea and the real power of geospatial data comes from linking information about a feature to a location in space or in the real-world. This may seem obvious and straight-forward, but it (as we will see) opens up many possibilities for how to integrate many different kinds of data and what questions we can starts to ask and answer.\n",
    "\n",
    "In GeoPandas this central idea of linking attributes to places is operationalised with the core data structure of the `GeoDataFrame`.\n",
    "\n",
    "The data we just loaded is an example of a `GeoDataFrame`."
   ]
  },
  {
   "cell_type": "code",
   "execution_count": null,
   "metadata": {
    "scrolled": true
   },
   "outputs": [],
   "source": [
    "type(gdf)"
   ]
  },
  {
   "cell_type": "code",
   "execution_count": null,
   "metadata": {},
   "outputs": [],
   "source": [
    "# get the dimensions (rows, cols)\n",
    "gdf.shape"
   ]
  },
  {
   "cell_type": "code",
   "execution_count": null,
   "metadata": {},
   "outputs": [],
   "source": [
    "gdf.head()"
   ]
  },
  {
   "cell_type": "markdown",
   "metadata": {},
   "source": [
    "We saw some of these basic operations in the first practical, but let's look at the results in a bit more detail this time.\n",
    "\n",
    "* `.head()` shows the first rows of the dataset (from Pandas)\n",
    "* each row is an observation or a feature to be represented\n",
    "* the **attributes** of the observations in the `GeoDataFrame` are columns of data (in a `DataFrame`)\n",
    "* there is the additional **'geometry'** column\n",
    "* in this example, the geometry is using polygons\n",
    "    * in fact, there are **multipolygons**. We will discuss these a bit more in a later section, but for now understand that they have multiple parts, each a polygon which describe a single feature\n"
   ]
  },
  {
   "cell_type": "markdown",
   "metadata": {},
   "source": [
    "Because the `gdf` is still (also) a **DataFrame** from pandas, we can work with the attribute columns as we might with a \"normal\" or non-spatial DataFrame."
   ]
  },
  {
   "cell_type": "code",
   "execution_count": null,
   "metadata": {},
   "outputs": [],
   "source": [
    "# Calculate the total area of land in the US\n",
    "gdf['ALAND'].sum()"
   ]
  },
  {
   "cell_type": "code",
   "execution_count": null,
   "metadata": {},
   "outputs": [],
   "source": [
    "# GeoPandas has another way to quickly get the area of polygon shapes\n",
    "# examine just the beginning\n",
    "gdf.area.head()"
   ]
  },
  {
   "cell_type": "markdown",
   "metadata": {},
   "source": [
    "But what units are those area measurements in? The first seems really big... and the second seems so different...\n",
    "\n",
    "We will spend a whole practical looking at how to accurately measure things like area (and perimeter, distance, etc.). Generally, you want to be very careful using something pre-calculated like this because often the process for how the calculations were done isn't clear. \n",
    "\n",
    "And, as you can in the `Warning`, the coordinate reference system used can have a big impact on the answer. This is telling us that we should \"re-project\" our data in order to get a more accurate answer. We'll do that later."
   ]
  },
  {
   "cell_type": "markdown",
   "metadata": {},
   "source": [
    "We can select a subset of attributes and even convert the `GeoDataFrame` back into a pandas `DataFrame` by removing the geometry attribute if we really want to."
   ]
  },
  {
   "cell_type": "code",
   "execution_count": null,
   "metadata": {},
   "outputs": [],
   "source": [
    "gdfSub = gdf[['NAME', 'GEOID', 'ALAND']]"
   ]
  },
  {
   "cell_type": "code",
   "execution_count": null,
   "metadata": {},
   "outputs": [],
   "source": [
    "# it used to be a GeoDataFrame, but now...\n",
    "type(gdfSub)"
   ]
  },
  {
   "cell_type": "code",
   "execution_count": null,
   "metadata": {
    "scrolled": true
   },
   "outputs": [],
   "source": [
    "gdfSub.head()"
   ]
  },
  {
   "cell_type": "markdown",
   "metadata": {},
   "source": [
    "We can subset rows of the dataframe into a new GeoDataFrame based on conditions."
   ]
  },
  {
   "cell_type": "code",
   "execution_count": null,
   "metadata": {},
   "outputs": [],
   "source": [
    "# Extract just North Carolina into a new GeoDataFrame\n",
    "nc = gdf[gdf['NAME'] == 'North Carolina']\n",
    "\n",
    "nc"
   ]
  },
  {
   "cell_type": "code",
   "execution_count": null,
   "metadata": {},
   "outputs": [],
   "source": [
    "nc.plot()"
   ]
  },
  {
   "cell_type": "markdown",
   "metadata": {},
   "source": [
    "The geometry column deserves a bit more attention."
   ]
  },
  {
   "cell_type": "code",
   "execution_count": null,
   "metadata": {},
   "outputs": [],
   "source": [
    "# extract just the geometry attribute\n",
    "gs = gdf.geometry"
   ]
  },
  {
   "cell_type": "code",
   "execution_count": null,
   "metadata": {},
   "outputs": [],
   "source": [
    "# inspect the column (now extracted into its own vector)\n",
    "type(gs)"
   ]
  },
  {
   "cell_type": "code",
   "execution_count": null,
   "metadata": {},
   "outputs": [],
   "source": [
    "gs.head()"
   ]
  },
  {
   "cell_type": "markdown",
   "metadata": {},
   "source": [
    "This column is a unique attribute for spatial dataframes. In GeoPandas it is called a `GeoSeries` and it is a set of shapes for each observation in the DataFrame. It is also made up of `shapely` objects. Because of this, the `GeoSeries` allows us to use most of the methods and attributes from `shapely`."
   ]
  },
  {
   "cell_type": "markdown",
   "metadata": {},
   "source": [
    "We can also access and work with invidual elements of the geometry series within the `GeoDataFrame`, though in practice we may not often do this."
   ]
  },
  {
   "cell_type": "code",
   "execution_count": null,
   "metadata": {},
   "outputs": [],
   "source": [
    "# get the first record and plot its geometry\n",
    "gdf.loc[0, 'geometry']"
   ]
  },
  {
   "cell_type": "code",
   "execution_count": null,
   "metadata": {
    "scrolled": true
   },
   "outputs": [],
   "source": [
    "# or as an alternative\n",
    "gdf.geometry[0]"
   ]
  },
  {
   "cell_type": "markdown",
   "metadata": {},
   "source": [
    "In a section above we talked a **multipolygon** instead of just a polygon. At this *scale*, the state looks like one shape, but it is, in fact, a multi-part polygon.Together these polygon pieces make up the geometric representation for this one object."
   ]
  },
  {
   "cell_type": "code",
   "execution_count": null,
   "metadata": {},
   "outputs": [],
   "source": [
    "# how many \"parts\" are there in the geometry\n",
    "len(gdf.geometry[0])\n",
    "\n",
    "# note, you can also run `print(gdf.geometry[0])` to see the whole, long string"
   ]
  },
  {
   "cell_type": "code",
   "execution_count": null,
   "metadata": {},
   "outputs": [],
   "source": [
    "# inspect the first part\n",
    "gdf.geometry[0][0]"
   ]
  },
  {
   "cell_type": "code",
   "execution_count": null,
   "metadata": {},
   "outputs": [],
   "source": [
    "# inspect the last part\n",
    "gdf.geometry[0][7]"
   ]
  },
  {
   "cell_type": "markdown",
   "metadata": {},
   "source": [
    "## Creating a GeoDataFrame\n",
    "\n",
    "If we don't have a ready-made GIS file, there are several ways we can construct a GeoDataFrame within Python."
   ]
  },
  {
   "cell_type": "markdown",
   "metadata": {},
   "source": [
    "### Constructing manually\n",
    "\n",
    "It's possible to construct the GeoDataFrame with the attribute data."
   ]
  },
  {
   "cell_type": "code",
   "execution_count": null,
   "metadata": {},
   "outputs": [],
   "source": [
    "# first need to import geometry objects\n",
    "from shapely.geometry import Point, LineString, Polygon"
   ]
  },
  {
   "cell_type": "code",
   "execution_count": null,
   "metadata": {
    "scrolled": true
   },
   "outputs": [],
   "source": [
    "# create a test dataset manually\n",
    "test = gpd.GeoDataFrame({\n",
    "                         'geometry': [Point(1, 1), Point(2,2)],\n",
    "                         'var1': [1, 2],\n",
    "                         'var2': [3, 4]\n",
    "                        })\n",
    "\n",
    "print(test)\n",
    "type(test)"
   ]
  },
  {
   "cell_type": "markdown",
   "metadata": {},
   "source": [
    "Notice that I called the column **'geometry'**, but that can be changed."
   ]
  },
  {
   "cell_type": "code",
   "execution_count": null,
   "metadata": {
    "scrolled": true
   },
   "outputs": [],
   "source": [
    "# rename the geometry column to 'shape'\n",
    "test = test.rename(columns={'geometry': 'shape'}).set_geometry('shape')\n",
    "\n",
    "test"
   ]
  },
  {
   "cell_type": "code",
   "execution_count": null,
   "metadata": {},
   "outputs": [],
   "source": [
    "test.geometry"
   ]
  },
  {
   "cell_type": "markdown",
   "metadata": {},
   "source": [
    "The `.geometry` attribute will always return the active column, or we can check its actual name."
   ]
  },
  {
   "cell_type": "code",
   "execution_count": null,
   "metadata": {
    "scrolled": true
   },
   "outputs": [],
   "source": [
    "# return the name of the column that holds the active geometries\n",
    "test.geometry.name"
   ]
  },
  {
   "cell_type": "markdown",
   "metadata": {},
   "source": [
    "Setting, resetting, renaming a geometry column can come in handy. Your GeoDataFrame could theoretically have two (or more) columns containing spatial information, but you could switch and set your choice with `.set_geometry`. You would still need to take care with correctly managing the objects and coordinate systems.\n",
    "\n",
    "And it's still a `GeoDataFrame` after that switching."
   ]
  },
  {
   "cell_type": "code",
   "execution_count": null,
   "metadata": {},
   "outputs": [],
   "source": [
    "type(test)"
   ]
  },
  {
   "cell_type": "markdown",
   "metadata": {},
   "source": [
    "**Side Track**\n",
    "\n",
    "The example above shows how it can be quite easy to construct geometries. Let's try a few others."
   ]
  },
  {
   "cell_type": "code",
   "execution_count": null,
   "metadata": {
    "scrolled": false
   },
   "outputs": [],
   "source": [
    "# Create a test poplygon\n",
    "poly = Polygon([(0.5, 1), (1, 2), (.75, 3), (.75, 3.5), (.5, 4)])\n",
    "\n",
    "# notice that `Polygon` automatically closes our set of vertices for us\n",
    "print(poly)\n",
    "poly"
   ]
  },
  {
   "cell_type": "code",
   "execution_count": null,
   "metadata": {
    "scrolled": true
   },
   "outputs": [],
   "source": [
    "# Create a test line (or \"linestring\")\n",
    "# using the same set of coordates as above\n",
    "ln = LineString([(0.5, 1), (1, 2), (.75, 3), (.75, 3.5), (.5, 4)])\n",
    "\n",
    "# this time the points aren't closed\n",
    "print(ln)\n",
    "ln"
   ]
  },
  {
   "cell_type": "markdown",
   "metadata": {},
   "source": [
    "#### Try for yourself!\n",
    "\n",
    "Experiment with making a few of your own geometries for points, lines, and polygons. \n",
    "\n",
    "What happens when:\n",
    "* a `LineString` ends at the same point it started with?\n",
    "* a `Polygon` intersects itself (repeating a vertex)?\n",
    "\n",
    "Can you store different geometry types within the same GeoDataFrame?\n",
    "* Hint: construct something like `test` above, but don't use all `Point` elements."
   ]
  },
  {
   "cell_type": "code",
   "execution_count": null,
   "metadata": {},
   "outputs": [],
   "source": [
    "# Test your code here...\n",
    "\n",
    "\n",
    "#"
   ]
  },
  {
   "cell_type": "markdown",
   "metadata": {},
   "source": [
    "### Constructing from a `pandas` DataFrame\n",
    "\n",
    "More commonly than manually creating data, we will need to create a **Geo**DataFrame from an existing *DataFrame* which might also contain geometry information. In the example below we are going to read in a `.csv` file which contains some coordinate locations and then we'll construct a GeoDataFrame.\n",
    "\n",
    "This is using an example data of populated places from [https://www.naturalearthdata.com/downloads/10m-cultural-vectors/10m-populated-places/](https://www.naturalearthdata.com/downloads/10m-cultural-vectors/10m-populated-places/) which I converted into a `.csv` file."
   ]
  },
  {
   "cell_type": "code",
   "execution_count": 98,
   "metadata": {},
   "outputs": [
    {
     "data": {
      "text/plain": [
       "pandas.core.frame.DataFrame"
      ]
     },
     "execution_count": 98,
     "metadata": {},
     "output_type": "execute_result"
    }
   ],
   "source": [
    "# read .csv file with pandas\n",
    "df = pd.read_csv('../data/ne_cities_10m.csv')\n",
    "\n",
    "# creates a non-spatial DataFrame\n",
    "type(df)"
   ]
  },
  {
   "cell_type": "code",
   "execution_count": 94,
   "metadata": {},
   "outputs": [
    {
     "data": {
      "text/plain": [
       "(7343, 38)"
      ]
     },
     "execution_count": 94,
     "metadata": {},
     "output_type": "execute_result"
    }
   ],
   "source": [
    "df.shape"
   ]
  },
  {
   "cell_type": "code",
   "execution_count": 95,
   "metadata": {
    "scrolled": true
   },
   "outputs": [
    {
     "data": {
      "text/html": [
       "<div>\n",
       "<style scoped>\n",
       "    .dataframe tbody tr th:only-of-type {\n",
       "        vertical-align: middle;\n",
       "    }\n",
       "\n",
       "    .dataframe tbody tr th {\n",
       "        vertical-align: top;\n",
       "    }\n",
       "\n",
       "    .dataframe thead th {\n",
       "        text-align: right;\n",
       "    }\n",
       "</style>\n",
       "<table border=\"1\" class=\"dataframe\">\n",
       "  <thead>\n",
       "    <tr style=\"text-align: right;\">\n",
       "      <th></th>\n",
       "      <th>scalerank</th>\n",
       "      <th>natscale</th>\n",
       "      <th>labelrank</th>\n",
       "      <th>featurecla</th>\n",
       "      <th>name</th>\n",
       "      <th>namepar</th>\n",
       "      <th>namealt</th>\n",
       "      <th>diffascii</th>\n",
       "      <th>nameascii</th>\n",
       "      <th>adm0cap</th>\n",
       "      <th>...</th>\n",
       "      <th>pop_other</th>\n",
       "      <th>rank_max</th>\n",
       "      <th>rank_min</th>\n",
       "      <th>geonameid</th>\n",
       "      <th>meganame</th>\n",
       "      <th>ls_name</th>\n",
       "      <th>ls_match</th>\n",
       "      <th>checkme</th>\n",
       "      <th>min_zoom</th>\n",
       "      <th>ne_id</th>\n",
       "    </tr>\n",
       "  </thead>\n",
       "  <tbody>\n",
       "    <tr>\n",
       "      <th>0</th>\n",
       "      <td>10</td>\n",
       "      <td>1</td>\n",
       "      <td>8</td>\n",
       "      <td>Admin-1 capital</td>\n",
       "      <td>Colonia del Sacramento</td>\n",
       "      <td>NaN</td>\n",
       "      <td>NaN</td>\n",
       "      <td>0</td>\n",
       "      <td>Colonia del Sacramento</td>\n",
       "      <td>0.0</td>\n",
       "      <td>...</td>\n",
       "      <td>0</td>\n",
       "      <td>7</td>\n",
       "      <td>7</td>\n",
       "      <td>3443013.0</td>\n",
       "      <td>NaN</td>\n",
       "      <td>NaN</td>\n",
       "      <td>0</td>\n",
       "      <td>0</td>\n",
       "      <td>9.0</td>\n",
       "      <td>1159112629</td>\n",
       "    </tr>\n",
       "    <tr>\n",
       "      <th>1</th>\n",
       "      <td>10</td>\n",
       "      <td>1</td>\n",
       "      <td>8</td>\n",
       "      <td>Admin-1 capital</td>\n",
       "      <td>Trinidad</td>\n",
       "      <td>NaN</td>\n",
       "      <td>NaN</td>\n",
       "      <td>0</td>\n",
       "      <td>Trinidad</td>\n",
       "      <td>0.0</td>\n",
       "      <td>...</td>\n",
       "      <td>0</td>\n",
       "      <td>7</td>\n",
       "      <td>7</td>\n",
       "      <td>3439749.0</td>\n",
       "      <td>NaN</td>\n",
       "      <td>NaN</td>\n",
       "      <td>0</td>\n",
       "      <td>0</td>\n",
       "      <td>9.0</td>\n",
       "      <td>1159112647</td>\n",
       "    </tr>\n",
       "    <tr>\n",
       "      <th>2</th>\n",
       "      <td>10</td>\n",
       "      <td>1</td>\n",
       "      <td>8</td>\n",
       "      <td>Admin-1 capital</td>\n",
       "      <td>Fray Bentos</td>\n",
       "      <td>NaN</td>\n",
       "      <td>NaN</td>\n",
       "      <td>0</td>\n",
       "      <td>Fray Bentos</td>\n",
       "      <td>0.0</td>\n",
       "      <td>...</td>\n",
       "      <td>0</td>\n",
       "      <td>7</td>\n",
       "      <td>7</td>\n",
       "      <td>3442568.0</td>\n",
       "      <td>NaN</td>\n",
       "      <td>NaN</td>\n",
       "      <td>0</td>\n",
       "      <td>0</td>\n",
       "      <td>9.0</td>\n",
       "      <td>1159112663</td>\n",
       "    </tr>\n",
       "    <tr>\n",
       "      <th>3</th>\n",
       "      <td>10</td>\n",
       "      <td>1</td>\n",
       "      <td>8</td>\n",
       "      <td>Admin-1 capital</td>\n",
       "      <td>Canelones</td>\n",
       "      <td>NaN</td>\n",
       "      <td>NaN</td>\n",
       "      <td>0</td>\n",
       "      <td>Canelones</td>\n",
       "      <td>0.0</td>\n",
       "      <td>...</td>\n",
       "      <td>0</td>\n",
       "      <td>6</td>\n",
       "      <td>6</td>\n",
       "      <td>3443413.0</td>\n",
       "      <td>NaN</td>\n",
       "      <td>NaN</td>\n",
       "      <td>0</td>\n",
       "      <td>0</td>\n",
       "      <td>9.0</td>\n",
       "      <td>1159112679</td>\n",
       "    </tr>\n",
       "    <tr>\n",
       "      <th>4</th>\n",
       "      <td>10</td>\n",
       "      <td>1</td>\n",
       "      <td>8</td>\n",
       "      <td>Admin-1 capital</td>\n",
       "      <td>Florida</td>\n",
       "      <td>NaN</td>\n",
       "      <td>NaN</td>\n",
       "      <td>0</td>\n",
       "      <td>Florida</td>\n",
       "      <td>0.0</td>\n",
       "      <td>...</td>\n",
       "      <td>0</td>\n",
       "      <td>7</td>\n",
       "      <td>7</td>\n",
       "      <td>3442585.0</td>\n",
       "      <td>NaN</td>\n",
       "      <td>NaN</td>\n",
       "      <td>0</td>\n",
       "      <td>0</td>\n",
       "      <td>7.0</td>\n",
       "      <td>1159112703</td>\n",
       "    </tr>\n",
       "  </tbody>\n",
       "</table>\n",
       "<p>5 rows × 38 columns</p>\n",
       "</div>"
      ],
      "text/plain": [
       "   scalerank  natscale  labelrank       featurecla                    name  \\\n",
       "0         10         1          8  Admin-1 capital  Colonia del Sacramento   \n",
       "1         10         1          8  Admin-1 capital                Trinidad   \n",
       "2         10         1          8  Admin-1 capital             Fray Bentos   \n",
       "3         10         1          8  Admin-1 capital               Canelones   \n",
       "4         10         1          8  Admin-1 capital                 Florida   \n",
       "\n",
       "  namepar namealt  diffascii               nameascii  adm0cap  ...  pop_other  \\\n",
       "0     NaN     NaN          0  Colonia del Sacramento      0.0  ...          0   \n",
       "1     NaN     NaN          0                Trinidad      0.0  ...          0   \n",
       "2     NaN     NaN          0             Fray Bentos      0.0  ...          0   \n",
       "3     NaN     NaN          0               Canelones      0.0  ...          0   \n",
       "4     NaN     NaN          0                 Florida      0.0  ...          0   \n",
       "\n",
       "  rank_max  rank_min  geonameid meganame ls_name ls_match checkme min_zoom  \\\n",
       "0        7         7  3443013.0      NaN     NaN        0       0      9.0   \n",
       "1        7         7  3439749.0      NaN     NaN        0       0      9.0   \n",
       "2        7         7  3442568.0      NaN     NaN        0       0      9.0   \n",
       "3        6         6  3443413.0      NaN     NaN        0       0      9.0   \n",
       "4        7         7  3442585.0      NaN     NaN        0       0      7.0   \n",
       "\n",
       "        ne_id  \n",
       "0  1159112629  \n",
       "1  1159112647  \n",
       "2  1159112663  \n",
       "3  1159112679  \n",
       "4  1159112703  \n",
       "\n",
       "[5 rows x 38 columns]"
      ]
     },
     "execution_count": 95,
     "metadata": {},
     "output_type": "execute_result"
    }
   ],
   "source": [
    "df.head()"
   ]
  },
  {
   "cell_type": "markdown",
   "metadata": {},
   "source": [
    "There are a lot of columns in this dataset. More than `pandas` shows by default. But I will tell you that there are two columns: `latitude` and `longitude` that you can use to create `Point` objects and convert the data into a GeoDataFrame."
   ]
  },
  {
   "cell_type": "code",
   "execution_count": 99,
   "metadata": {},
   "outputs": [],
   "source": [
    "# we can do the conversion in one step\n",
    "# pass the data frame along with a shapely object created from the coordinates\n",
    "cities = gpd.GeoDataFrame(df,\n",
    "                          geometry = gpd.points_from_xy(df.longitude, df.latitude))"
   ]
  },
  {
   "cell_type": "markdown",
   "metadata": {},
   "source": [
    "The result should look like this:"
   ]
  },
  {
   "cell_type": "code",
   "execution_count": 100,
   "metadata": {},
   "outputs": [
    {
     "data": {
      "text/html": [
       "<div>\n",
       "<style scoped>\n",
       "    .dataframe tbody tr th:only-of-type {\n",
       "        vertical-align: middle;\n",
       "    }\n",
       "\n",
       "    .dataframe tbody tr th {\n",
       "        vertical-align: top;\n",
       "    }\n",
       "\n",
       "    .dataframe thead th {\n",
       "        text-align: right;\n",
       "    }\n",
       "</style>\n",
       "<table border=\"1\" class=\"dataframe\">\n",
       "  <thead>\n",
       "    <tr style=\"text-align: right;\">\n",
       "      <th></th>\n",
       "      <th>scalerank</th>\n",
       "      <th>natscale</th>\n",
       "      <th>labelrank</th>\n",
       "      <th>featurecla</th>\n",
       "      <th>name</th>\n",
       "      <th>namepar</th>\n",
       "      <th>namealt</th>\n",
       "      <th>diffascii</th>\n",
       "      <th>nameascii</th>\n",
       "      <th>adm0cap</th>\n",
       "      <th>...</th>\n",
       "      <th>rank_max</th>\n",
       "      <th>rank_min</th>\n",
       "      <th>geonameid</th>\n",
       "      <th>meganame</th>\n",
       "      <th>ls_name</th>\n",
       "      <th>ls_match</th>\n",
       "      <th>checkme</th>\n",
       "      <th>min_zoom</th>\n",
       "      <th>ne_id</th>\n",
       "      <th>geometry</th>\n",
       "    </tr>\n",
       "  </thead>\n",
       "  <tbody>\n",
       "    <tr>\n",
       "      <th>0</th>\n",
       "      <td>10</td>\n",
       "      <td>1</td>\n",
       "      <td>8</td>\n",
       "      <td>Admin-1 capital</td>\n",
       "      <td>Colonia del Sacramento</td>\n",
       "      <td>NaN</td>\n",
       "      <td>NaN</td>\n",
       "      <td>0</td>\n",
       "      <td>Colonia del Sacramento</td>\n",
       "      <td>0.0</td>\n",
       "      <td>...</td>\n",
       "      <td>7</td>\n",
       "      <td>7</td>\n",
       "      <td>3443013.0</td>\n",
       "      <td>NaN</td>\n",
       "      <td>NaN</td>\n",
       "      <td>0</td>\n",
       "      <td>0</td>\n",
       "      <td>9.0</td>\n",
       "      <td>1159112629</td>\n",
       "      <td>POINT (-57.84000 -34.48000)</td>\n",
       "    </tr>\n",
       "    <tr>\n",
       "      <th>1</th>\n",
       "      <td>10</td>\n",
       "      <td>1</td>\n",
       "      <td>8</td>\n",
       "      <td>Admin-1 capital</td>\n",
       "      <td>Trinidad</td>\n",
       "      <td>NaN</td>\n",
       "      <td>NaN</td>\n",
       "      <td>0</td>\n",
       "      <td>Trinidad</td>\n",
       "      <td>0.0</td>\n",
       "      <td>...</td>\n",
       "      <td>7</td>\n",
       "      <td>7</td>\n",
       "      <td>3439749.0</td>\n",
       "      <td>NaN</td>\n",
       "      <td>NaN</td>\n",
       "      <td>0</td>\n",
       "      <td>0</td>\n",
       "      <td>9.0</td>\n",
       "      <td>1159112647</td>\n",
       "      <td>POINT (-56.90100 -33.54400)</td>\n",
       "    </tr>\n",
       "    <tr>\n",
       "      <th>2</th>\n",
       "      <td>10</td>\n",
       "      <td>1</td>\n",
       "      <td>8</td>\n",
       "      <td>Admin-1 capital</td>\n",
       "      <td>Fray Bentos</td>\n",
       "      <td>NaN</td>\n",
       "      <td>NaN</td>\n",
       "      <td>0</td>\n",
       "      <td>Fray Bentos</td>\n",
       "      <td>0.0</td>\n",
       "      <td>...</td>\n",
       "      <td>7</td>\n",
       "      <td>7</td>\n",
       "      <td>3442568.0</td>\n",
       "      <td>NaN</td>\n",
       "      <td>NaN</td>\n",
       "      <td>0</td>\n",
       "      <td>0</td>\n",
       "      <td>9.0</td>\n",
       "      <td>1159112663</td>\n",
       "      <td>POINT (-58.30400 -33.13900)</td>\n",
       "    </tr>\n",
       "    <tr>\n",
       "      <th>3</th>\n",
       "      <td>10</td>\n",
       "      <td>1</td>\n",
       "      <td>8</td>\n",
       "      <td>Admin-1 capital</td>\n",
       "      <td>Canelones</td>\n",
       "      <td>NaN</td>\n",
       "      <td>NaN</td>\n",
       "      <td>0</td>\n",
       "      <td>Canelones</td>\n",
       "      <td>0.0</td>\n",
       "      <td>...</td>\n",
       "      <td>6</td>\n",
       "      <td>6</td>\n",
       "      <td>3443413.0</td>\n",
       "      <td>NaN</td>\n",
       "      <td>NaN</td>\n",
       "      <td>0</td>\n",
       "      <td>0</td>\n",
       "      <td>9.0</td>\n",
       "      <td>1159112679</td>\n",
       "      <td>POINT (-56.28400 -34.53800)</td>\n",
       "    </tr>\n",
       "    <tr>\n",
       "      <th>4</th>\n",
       "      <td>10</td>\n",
       "      <td>1</td>\n",
       "      <td>8</td>\n",
       "      <td>Admin-1 capital</td>\n",
       "      <td>Florida</td>\n",
       "      <td>NaN</td>\n",
       "      <td>NaN</td>\n",
       "      <td>0</td>\n",
       "      <td>Florida</td>\n",
       "      <td>0.0</td>\n",
       "      <td>...</td>\n",
       "      <td>7</td>\n",
       "      <td>7</td>\n",
       "      <td>3442585.0</td>\n",
       "      <td>NaN</td>\n",
       "      <td>NaN</td>\n",
       "      <td>0</td>\n",
       "      <td>0</td>\n",
       "      <td>7.0</td>\n",
       "      <td>1159112703</td>\n",
       "      <td>POINT (-56.21500 -34.09900)</td>\n",
       "    </tr>\n",
       "  </tbody>\n",
       "</table>\n",
       "<p>5 rows × 39 columns</p>\n",
       "</div>"
      ],
      "text/plain": [
       "   scalerank  natscale  labelrank       featurecla                    name  \\\n",
       "0         10         1          8  Admin-1 capital  Colonia del Sacramento   \n",
       "1         10         1          8  Admin-1 capital                Trinidad   \n",
       "2         10         1          8  Admin-1 capital             Fray Bentos   \n",
       "3         10         1          8  Admin-1 capital               Canelones   \n",
       "4         10         1          8  Admin-1 capital                 Florida   \n",
       "\n",
       "  namepar namealt  diffascii               nameascii  adm0cap  ...  rank_max  \\\n",
       "0     NaN     NaN          0  Colonia del Sacramento      0.0  ...         7   \n",
       "1     NaN     NaN          0                Trinidad      0.0  ...         7   \n",
       "2     NaN     NaN          0             Fray Bentos      0.0  ...         7   \n",
       "3     NaN     NaN          0               Canelones      0.0  ...         6   \n",
       "4     NaN     NaN          0                 Florida      0.0  ...         7   \n",
       "\n",
       "  rank_min  geonameid  meganame ls_name ls_match checkme min_zoom       ne_id  \\\n",
       "0        7  3443013.0       NaN     NaN        0       0      9.0  1159112629   \n",
       "1        7  3439749.0       NaN     NaN        0       0      9.0  1159112647   \n",
       "2        7  3442568.0       NaN     NaN        0       0      9.0  1159112663   \n",
       "3        6  3443413.0       NaN     NaN        0       0      9.0  1159112679   \n",
       "4        7  3442585.0       NaN     NaN        0       0      7.0  1159112703   \n",
       "\n",
       "                      geometry  \n",
       "0  POINT (-57.84000 -34.48000)  \n",
       "1  POINT (-56.90100 -33.54400)  \n",
       "2  POINT (-58.30400 -33.13900)  \n",
       "3  POINT (-56.28400 -34.53800)  \n",
       "4  POINT (-56.21500 -34.09900)  \n",
       "\n",
       "[5 rows x 39 columns]"
      ]
     },
     "execution_count": 100,
     "metadata": {},
     "output_type": "execute_result"
    }
   ],
   "source": [
    "cities.head()"
   ]
  },
  {
   "cell_type": "markdown",
   "metadata": {},
   "source": [
    "Notice that the number of columns has changed from the original DataFrame. There is one more column called `geometry` which we created."
   ]
  },
  {
   "cell_type": "code",
   "execution_count": 105,
   "metadata": {},
   "outputs": [
    {
     "data": {
      "text/plain": [
       "(7343, 39)"
      ]
     },
     "execution_count": 105,
     "metadata": {},
     "output_type": "execute_result"
    }
   ],
   "source": [
    "cities.shape"
   ]
  },
  {
   "cell_type": "markdown",
   "metadata": {},
   "source": [
    "The `geopandas.points_from_xy` is a convenient function to create a list of `shapely` Points. In fact, it is a wrapper for `[Point(x, y) for x, y in zip(df.longitude, df.latitude)]`."
   ]
  },
  {
   "cell_type": "code",
   "execution_count": 104,
   "metadata": {},
   "outputs": [
    {
     "data": {
      "text/plain": [
       "[<shapely.geometry.point.Point at 0x7efde3a26690>,\n",
       " <shapely.geometry.point.Point at 0x7efde3a26750>,\n",
       " <shapely.geometry.point.Point at 0x7efde3a26710>,\n",
       " <shapely.geometry.point.Point at 0x7efde3a26810>,\n",
       " <shapely.geometry.point.Point at 0x7efde3a267d0>,\n",
       " <shapely.geometry.point.Point at 0x7efde3a26990>,\n",
       " <shapely.geometry.point.Point at 0x7efde3a269d0>,\n",
       " <shapely.geometry.point.Point at 0x7efde3a26890>,\n",
       " <shapely.geometry.point.Point at 0x7efde397ae50>]"
      ]
     },
     "execution_count": 104,
     "metadata": {},
     "output_type": "execute_result"
    }
   ],
   "source": [
    "[Point(x, y) for x, y in zip(df.longitude, df.latitude)][0:9]"
   ]
  },
  {
   "cell_type": "markdown",
   "metadata": {},
   "source": [
    "### Constructing from `WKT` (well-known text) representation\n"
   ]
  },
  {
   "cell_type": "code",
   "execution_count": null,
   "metadata": {},
   "outputs": [],
   "source": []
  },
  {
   "cell_type": "markdown",
   "metadata": {},
   "source": [
    "## Saving or exporting data\n",
    "\n",
    "Once we've finished creating or manipulating a GeoDataFrame in our notebooks, we may want to save that as a new output file."
   ]
  },
  {
   "cell_type": "code",
   "execution_count": null,
   "metadata": {},
   "outputs": [],
   "source": []
  },
  {
   "cell_type": "markdown",
   "metadata": {},
   "source": [
    "## Bonus section: Big Data\n",
    "\n",
    "For most analyses (and certainly everything we will do in this workshop) you can use the `geopandas.read_file` command to use standard `fiona` processes to read/write your files. But what about when you have some really, *really* big datasets?\n",
    "\n",
    "Below I'm going to show you a few tips and tricks and resources that might come in handy for your research.\n",
    "\n",
    "For starters, we won't "
   ]
  },
  {
   "cell_type": "markdown",
   "metadata": {},
   "source": [
    "### Reading in batches of records"
   ]
  },
  {
   "cell_type": "code",
   "execution_count": null,
   "metadata": {},
   "outputs": [],
   "source": []
  },
  {
   "cell_type": "markdown",
   "metadata": {},
   "source": [
    "### Writing to a SQL database"
   ]
  },
  {
   "cell_type": "code",
   "execution_count": null,
   "metadata": {},
   "outputs": [],
   "source": []
  },
  {
   "cell_type": "markdown",
   "metadata": {},
   "source": [
    "Future options: Apache, dask, parquet tiles"
   ]
  }
 ],
 "metadata": {
  "kernelspec": {
   "display_name": "Python 3",
   "language": "python",
   "name": "python3"
  },
  "language_info": {
   "codemirror_mode": {
    "name": "ipython",
    "version": 3
   },
   "file_extension": ".py",
   "mimetype": "text/x-python",
   "name": "python",
   "nbconvert_exporter": "python",
   "pygments_lexer": "ipython3",
   "version": "3.7.7"
  }
 },
 "nbformat": 4,
 "nbformat_minor": 4
}
