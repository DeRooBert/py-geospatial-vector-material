{
 "cells": [
  {
   "cell_type": "markdown",
   "metadata": {},
   "source": [
    "# Introduction to GeoPandas and Geospatial Vector Data\n",
    "\n",
    "In this second practical session we will begin more hands-on work with geospatial *vector* data (i.e. points, lines, and polygons). We will also introduce the `GeoPandas` package and explore some of its key features for working with this type of data.\n",
    "\n",
    "Objectives:\n",
    "* Read/write spatial vector datasets in different formats\n",
    "* Create/convert/view geometry data\n",
    "* Produce basic plots of spatial data\n"
   ]
  },
  {
   "cell_type": "code",
   "execution_count": null,
   "metadata": {},
   "outputs": [],
   "source": [
    "# load packages\n",
    "import geopandas as gpd"
   ]
  },
  {
   "cell_type": "markdown",
   "metadata": {},
   "source": [
    "## Overview and helpful links\n",
    "\n",
    "Remember that GeoPandas is a developing project that makes dealing with geospatial data in Python much easier. It leverages components from several other projects, including `pandas`, `shapely`, and `fiona`. \n",
    "\n",
    "To learn more and to find the documentation to these projects following these links:\n",
    "* GeoPandas\n",
    "    * [https://geopandas.org/](https://geopandas.org/)\n",
    "    * [https://geopandas.readthedocs.io/en/latest/](https://geopandas.readthedocs.io/en/latest/)\n",
    "* pandas - for DataFrames\n",
    "    * [https://pandas.pydata.org/](https://pandas.pydata.org/)\n",
    "* shapely - for geometry\n",
    "    * [https://shapely.readthedocs.io/en/latest/](https://shapely.readthedocs.io/en/latest/)\n",
    "* fiona - for file I/O\n",
    "    * [https://fiona.readthedocs.io/en/latest/](https://fiona.readthedocs.io/en/latest/)\n",
    "\n",
    "Under the hood, these packages rely on other libraries like GDAL/OGR ([https://www.osgeo.org/projects/gdal/](https://www.osgeo.org/projects/gdal/)) and proj ([https://www.osgeo.org/projects/proj/](https://www.osgeo.org/projects/proj/)).\n",
    "\n",
    "Refer back to the documentation as you explore the practicals during this workshop. There are many helpful features and we won't be able to cover everything.\n"
   ]
  },
  {
   "cell_type": "markdown",
   "metadata": {},
   "source": [
    "### Background on working with tabular data\n",
    "\n",
    "The practicals will try to give enough guidance and examples of working with different data types, but if you have less experience with `pandas` you may want to refer back to some of the other tutorials for additional help.\n",
    "\n",
    "* [https://pandas.pydata.org/pandas-docs/stable/getting_started/tutorials.html](https://pandas.pydata.org/pandas-docs/stable/getting_started/tutorials.html)"
   ]
  },
  {
   "cell_type": "markdown",
   "metadata": {},
   "source": [
    "## Geospatial vector data\n",
    "\n",
    "There are different mathematical data models that can be used to represent objects, surfaces, or other geographic phenomena. These specify how data are defined, organised, updated, and queried. The *vector* data model is one example (and as we discussed in the lecture, it is usually contrasted with the *raster* data model).\n",
    "\n",
    "Vector data represent features whose geometry can consist of:\n",
    "* Points - a vertex or position in space with X, Y, and optionally Z coordinates\n",
    "\n",
    "* Lines - sets of vertices linked by paths where the start and ending point are not the same location\n",
    "\n",
    "* Polygons - a closed shape formed by a set of vertices and paths in a set order, where the start and ending point are the same\n",
    "\n",
    "Don't confuse the data model with a specific file format. There are now several different file formats that can be used to store geospatial vector data (see also: [https://en.wikipedia.org/wiki/GIS_file_formats](https://en.wikipedia.org/wiki/GIS_file_formats)).\n",
    "\n",
    "The *shapefile* is still a well-known and common file format because it is used by a major GIS software company ESRI). Other common formats you're likely to encounter are: *geopackages* and *GeoJSON* files. You might notice that the files we're using in the `\\data` directory are compressed (&ast;.zip). This is mostly for convenience of storing them on Github. Working with your own data you may want to leave them unzipped.\n",
    "\n",
    "Try unzipping one of the shapefiles (&ast;.shp.zip). You will see that it isn't one file, but a collection of several files. These contain the geometry, the attributes, coordinate information. And you have to keep them all together.\n",
    "\n",
    "If you unzip one of the geopackages (&ast;.gpkg.zip) and inspect it, you will see that inside is actually a SQLite database (which adhere to certain standards: [https://www.geopackage.org/](https://www.geopackage.org/)). There are manay ways to work with vector data files, and we're going to focus just on using `GeoPandas` and Python.\n",
    "\n",
    "Regardless of the format of the vector data, `fiona` makes it easy to read into GeoPandas using the `geopandas.read_file` command.\n"
   ]
  },
  {
   "cell_type": "code",
   "execution_count": null,
   "metadata": {},
   "outputs": [],
   "source": [
    "# load an example of vector data\n",
    "# we will use a set of US states \n",
    "gdf = gpd.read_file()\n",
    "\n",
    "# if we have an uncompressed shapefile instead, point towards the *.shp file: gpd.read_file('\\path\\to\\data.shp')"
   ]
  },
  {
   "cell_type": "markdown",
   "metadata": {},
   "source": [
    "## Linking place and attributes\n",
    "\n",
    "The key idea and the real power of geospatial data comes from linking information about a feature to a location in space or in the real-world. This may seem obvious and straight-forward, but it (as we will see) opens up many possibilities for how to integrate many different kinds of data and what questions we can starts to ask and answer.\n",
    "\n",
    "In GeoPandas this central idea of linking attributes to places is operationalised with the core data structure of the `GeoDataFrame`.\n",
    "\n",
    "The data we just loaded is an example of a `GeoDataFrame`."
   ]
  },
  {
   "cell_type": "code",
   "execution_count": null,
   "metadata": {},
   "outputs": [],
   "source": [
    "type(gdf)"
   ]
  },
  {
   "cell_type": "code",
   "execution_count": null,
   "metadata": {},
   "outputs": [],
   "source": [
    "gdf.head()"
   ]
  },
  {
   "cell_type": "markdown",
   "metadata": {},
   "source": [
    "We saw some of these operations in the first practical, but let's look at the results in a bit more detail this time.\n",
    "\n",
    "* `.head()` shows the first rows of the dataset (from Pandas)\n",
    "* each row is an observation or a feature to be represented\n",
    "* the **attributes** of the observations in the `GeoDataFrame` are columns of data (in a `DataFrame`)\n",
    "* there is the additional **'geometry'** column\n",
    "* in this example, the geometry is using polygons\n"
   ]
  },
  {
   "cell_type": "markdown",
   "metadata": {},
   "source": [
    "Because the `gdf` is still (also) a **DataFrame** from pandas, we can work with the attribute columns as normal."
   ]
  },
  {
   "cell_type": "code",
   "execution_count": null,
   "metadata": {},
   "outputs": [],
   "source": []
  },
  {
   "cell_type": "markdown",
   "metadata": {},
   "source": [
    "We can select a subset of attributes and even convert the `GeoDataFrame` back into a pandas `DataFrame` by removing the geometry attribute if we really want to."
   ]
  },
  {
   "cell_type": "code",
   "execution_count": null,
   "metadata": {},
   "outputs": [],
   "source": []
  },
  {
   "cell_type": "markdown",
   "metadata": {},
   "source": [
    "We can subset rows of the dataframe into a new DataFrame based on conditions."
   ]
  },
  {
   "cell_type": "code",
   "execution_count": null,
   "metadata": {},
   "outputs": [],
   "source": []
  },
  {
   "cell_type": "markdown",
   "metadata": {},
   "source": [
    "The geometry column deserves a bit more attention."
   ]
  },
  {
   "cell_type": "code",
   "execution_count": null,
   "metadata": {},
   "outputs": [],
   "source": [
    "# extract just the geometry attribute\n",
    "gs = gdf.geometry"
   ]
  },
  {
   "cell_type": "code",
   "execution_count": null,
   "metadata": {},
   "outputs": [],
   "source": [
    "type(gs)"
   ]
  },
  {
   "cell_type": "code",
   "execution_count": null,
   "metadata": {},
   "outputs": [],
   "source": [
    "gs.head()"
   ]
  },
  {
   "cell_type": "markdown",
   "metadata": {},
   "source": [
    "This column is a unique attribute for spatial dataframes. In GeoPandas it is a `GeoSeries` and it is a set of shapes for each observation in the DataFrame. It is also made up of `shapely` objects. Because of this, the `GeoSeries` allows us to use most of the methods and attributes from `shapely`."
   ]
  },
  {
   "cell_type": "code",
   "execution_count": null,
   "metadata": {},
   "outputs": [],
   "source": [
    "# access the shape areas\n",
    "gs.area[0:4]"
   ]
  },
  {
   "cell_type": "markdown",
   "metadata": {},
   "source": [
    "We can also access and work with invidual elements of the geometry series, though in practice we may not often do this."
   ]
  },
  {
   "cell_type": "code",
   "execution_count": null,
   "metadata": {},
   "outputs": [],
   "source": [
    "# get the first record and plot its geometry\n",
    "gdf.loc[0, 'geometry'].plot()"
   ]
  },
  {
   "cell_type": "code",
   "execution_count": null,
   "metadata": {},
   "outputs": [],
   "source": [
    "# or as an alternative\n",
    "gdf.geometry[0].plot()"
   ]
  },
  {
   "cell_type": "markdown",
   "metadata": {},
   "source": [
    "## Creating a GeoDataFrame\n",
    "\n",
    "If we don't have a ready-made GIS file, there are several ways we can construct a GeoDataFrame within Python."
   ]
  },
  {
   "cell_type": "markdown",
   "metadata": {},
   "source": [
    "### Constructing manually\n",
    "\n",
    "It's possible to construct the GeoDataFrame with the attribute data."
   ]
  },
  {
   "cell_type": "code",
   "execution_count": 28,
   "metadata": {},
   "outputs": [],
   "source": [
    "# first need to import geometry objects\n",
    "from shapely.geometry import Point, LineString, Polygon"
   ]
  },
  {
   "cell_type": "code",
   "execution_count": 22,
   "metadata": {
    "scrolled": true
   },
   "outputs": [
    {
     "name": "stdout",
     "output_type": "stream",
     "text": [
      "                  geometry  var1  var2\n",
      "0  POINT (1.00000 1.00000)     1     3\n",
      "1  POINT (2.00000 2.00000)     2     4\n"
     ]
    },
    {
     "data": {
      "text/plain": [
       "geopandas.geodataframe.GeoDataFrame"
      ]
     },
     "execution_count": 22,
     "metadata": {},
     "output_type": "execute_result"
    }
   ],
   "source": [
    "# create a test dataset manually\n",
    "test = gpd.GeoDataFrame({\n",
    "                         'geometry': [Point(1, 1), Point(2,2)],\n",
    "                         'var1': [1, 2],\n",
    "                         'var2': [3, 4]\n",
    "                        })\n",
    "\n",
    "print(test)\n",
    "type(test)"
   ]
  },
  {
   "cell_type": "markdown",
   "metadata": {},
   "source": [
    "Notice that I called the column **'geometry'**, but that can be changed."
   ]
  },
  {
   "cell_type": "code",
   "execution_count": 23,
   "metadata": {},
   "outputs": [
    {
     "data": {
      "text/html": [
       "<div>\n",
       "<style scoped>\n",
       "    .dataframe tbody tr th:only-of-type {\n",
       "        vertical-align: middle;\n",
       "    }\n",
       "\n",
       "    .dataframe tbody tr th {\n",
       "        vertical-align: top;\n",
       "    }\n",
       "\n",
       "    .dataframe thead th {\n",
       "        text-align: right;\n",
       "    }\n",
       "</style>\n",
       "<table border=\"1\" class=\"dataframe\">\n",
       "  <thead>\n",
       "    <tr style=\"text-align: right;\">\n",
       "      <th></th>\n",
       "      <th>shape</th>\n",
       "      <th>var1</th>\n",
       "      <th>var2</th>\n",
       "    </tr>\n",
       "  </thead>\n",
       "  <tbody>\n",
       "    <tr>\n",
       "      <th>0</th>\n",
       "      <td>POINT (1.00000 1.00000)</td>\n",
       "      <td>1</td>\n",
       "      <td>3</td>\n",
       "    </tr>\n",
       "    <tr>\n",
       "      <th>1</th>\n",
       "      <td>POINT (2.00000 2.00000)</td>\n",
       "      <td>2</td>\n",
       "      <td>4</td>\n",
       "    </tr>\n",
       "  </tbody>\n",
       "</table>\n",
       "</div>"
      ],
      "text/plain": [
       "                     shape  var1  var2\n",
       "0  POINT (1.00000 1.00000)     1     3\n",
       "1  POINT (2.00000 2.00000)     2     4"
      ]
     },
     "execution_count": 23,
     "metadata": {},
     "output_type": "execute_result"
    }
   ],
   "source": [
    "test = test.rename(columns={'geometry': 'shape'}).set_geometry('shape')\n",
    "\n",
    "test"
   ]
  },
  {
   "cell_type": "code",
   "execution_count": 24,
   "metadata": {},
   "outputs": [
    {
     "data": {
      "text/plain": [
       "0    POINT (1.00000 1.00000)\n",
       "1    POINT (2.00000 2.00000)\n",
       "Name: shape, dtype: geometry"
      ]
     },
     "execution_count": 24,
     "metadata": {},
     "output_type": "execute_result"
    }
   ],
   "source": [
    "test.geometry"
   ]
  },
  {
   "cell_type": "markdown",
   "metadata": {},
   "source": [
    "The `.geometry` attribute will always return the active column, or we can check its actual name."
   ]
  },
  {
   "cell_type": "code",
   "execution_count": 25,
   "metadata": {
    "scrolled": true
   },
   "outputs": [
    {
     "data": {
      "text/plain": [
       "'shape'"
      ]
     },
     "execution_count": 25,
     "metadata": {},
     "output_type": "execute_result"
    }
   ],
   "source": [
    "test.geometry.name"
   ]
  },
  {
   "cell_type": "markdown",
   "metadata": {},
   "source": [
    "But it's still a `GeoDataFrame`."
   ]
  },
  {
   "cell_type": "code",
   "execution_count": 26,
   "metadata": {},
   "outputs": [
    {
     "data": {
      "text/plain": [
       "geopandas.geodataframe.GeoDataFrame"
      ]
     },
     "execution_count": 26,
     "metadata": {},
     "output_type": "execute_result"
    }
   ],
   "source": [
    "type(test)"
   ]
  },
  {
   "cell_type": "markdown",
   "metadata": {},
   "source": [
    "**Side Track**\n",
    "\n",
    "The example above shows how it can be quite easy to construct geometries. Let's try a few others."
   ]
  },
  {
   "cell_type": "code",
   "execution_count": 32,
   "metadata": {
    "scrolled": false
   },
   "outputs": [
    {
     "name": "stdout",
     "output_type": "stream",
     "text": [
      "POLYGON ((0.5 1, 1 2, 0.75 3, 0.75 3.5, 0.5 4, 0.5 1))\n"
     ]
    },
    {
     "data": {
      "image/svg+xml": [
       "<svg xmlns=\"http://www.w3.org/2000/svg\" xmlns:xlink=\"http://www.w3.org/1999/xlink\" width=\"100.0\" height=\"100.0\" viewBox=\"0.38 0.88 0.7400000000000001 3.24\" preserveAspectRatio=\"xMinYMin meet\"><g transform=\"matrix(1,0,0,-1,0,5.0)\"><path fill-rule=\"evenodd\" fill=\"#66cc99\" stroke=\"#555555\" stroke-width=\"0.06480000000000001\" opacity=\"0.6\" d=\"M 0.5,1.0 L 1.0,2.0 L 0.75,3.0 L 0.75,3.5 L 0.5,4.0 L 0.5,1.0 z\" /></g></svg>"
      ],
      "text/plain": [
       "<shapely.geometry.polygon.Polygon at 0x7efdecf3b0d0>"
      ]
     },
     "execution_count": 32,
     "metadata": {},
     "output_type": "execute_result"
    }
   ],
   "source": [
    "# Test poplygon\n",
    "poly = Polygon([(0.5, 1), (1, 2), (.75, 3), (.75, 3.5), (.5, 4)])\n",
    "\n",
    "# notice that it `Polygon` automatically closes our set of vertices!\n",
    "print(poly)\n",
    "poly"
   ]
  },
  {
   "cell_type": "code",
   "execution_count": 33,
   "metadata": {
    "scrolled": true
   },
   "outputs": [
    {
     "name": "stdout",
     "output_type": "stream",
     "text": [
      "LINESTRING (0.5 1, 1 2, 0.75 3, 0.75 3.5, 0.5 4)\n"
     ]
    },
    {
     "data": {
      "image/svg+xml": [
       "<svg xmlns=\"http://www.w3.org/2000/svg\" xmlns:xlink=\"http://www.w3.org/1999/xlink\" width=\"100.0\" height=\"100.0\" viewBox=\"0.38 0.88 0.7400000000000001 3.24\" preserveAspectRatio=\"xMinYMin meet\"><g transform=\"matrix(1,0,0,-1,0,5.0)\"><polyline fill=\"none\" stroke=\"#66cc99\" stroke-width=\"0.06480000000000001\" points=\"0.5,1.0 1.0,2.0 0.75,3.0 0.75,3.5 0.5,4.0\" opacity=\"0.8\" /></g></svg>"
      ],
      "text/plain": [
       "<shapely.geometry.linestring.LineString at 0x7efdecf3b550>"
      ]
     },
     "execution_count": 33,
     "metadata": {},
     "output_type": "execute_result"
    }
   ],
   "source": [
    "# Test line (or \"linestring\")\n",
    "# using the same set of coordates as above\n",
    "ln = LineString([(0.5, 1), (1, 2), (.75, 3), (.75, 3.5), (.5, 4)])\n",
    "\n",
    "# this time the points aren't closed\n",
    "print(ln)\n",
    "ln"
   ]
  },
  {
   "cell_type": "markdown",
   "metadata": {},
   "source": [
    "#### Try for yourself!\n",
    "\n",
    "Experiment with making a few of your own geometries for points, lines, and polygons. \n",
    "\n",
    "What happens when:\n",
    "* a `LineString` ends at the same point it started with?\n",
    "* a `Polygon` intersects itself (repeating a vertex)?\n",
    "\n",
    "Can you store different geometry types within the same GeoDataFrame?\n",
    "* Hint: construct something like `test` above, but don't use all `Point` elements."
   ]
  },
  {
   "cell_type": "code",
   "execution_count": null,
   "metadata": {},
   "outputs": [],
   "source": [
    "# Test your code here..."
   ]
  },
  {
   "cell_type": "markdown",
   "metadata": {},
   "source": [
    "### Constructing from a `pandas` DataFrame\n",
    "\n",
    "More commonly than manually creating data, we will need to create a GeoDataFrame from an existing DataFrame which might also contain geometry information. In the example below we are going to read in a `.csv` file which contains some coordinate locations and then we'll create a GeoDataFrame."
   ]
  },
  {
   "cell_type": "code",
   "execution_count": null,
   "metadata": {},
   "outputs": [],
   "source": []
  },
  {
   "cell_type": "markdown",
   "metadata": {},
   "source": [
    "## Saving or exporting data\n",
    "\n",
    "Once we've finished creating or manipulating a GeoDataFrame in our notebooks, we may want to save that as a new output file."
   ]
  },
  {
   "cell_type": "code",
   "execution_count": null,
   "metadata": {},
   "outputs": [],
   "source": []
  },
  {
   "cell_type": "markdown",
   "metadata": {},
   "source": [
    "## Bonus section: Big Data\n",
    "\n",
    "For most analyses (and certainly everything we will do in this workshop) you can use the `geopandas.read_file` command to use standard `fiona` processes to read/write your files. But what about when you have some really, *really* big datasets?\n",
    "\n",
    "Below I'm going to show you a few tips and tricks and resources that might come in handy for your research.\n",
    "\n",
    "For starters, we won't "
   ]
  },
  {
   "cell_type": "markdown",
   "metadata": {},
   "source": [
    "### Reading in batches of records"
   ]
  },
  {
   "cell_type": "code",
   "execution_count": null,
   "metadata": {},
   "outputs": [],
   "source": []
  },
  {
   "cell_type": "markdown",
   "metadata": {},
   "source": [
    "### Writing to a SQL database"
   ]
  },
  {
   "cell_type": "code",
   "execution_count": null,
   "metadata": {},
   "outputs": [],
   "source": []
  },
  {
   "cell_type": "markdown",
   "metadata": {},
   "source": [
    "Future options: Apache, dask, parquet tiles"
   ]
  }
 ],
 "metadata": {
  "kernelspec": {
   "display_name": "Python 3",
   "language": "python",
   "name": "python3"
  },
  "language_info": {
   "codemirror_mode": {
    "name": "ipython",
    "version": 3
   },
   "file_extension": ".py",
   "mimetype": "text/x-python",
   "name": "python",
   "nbconvert_exporter": "python",
   "pygments_lexer": "ipython3",
   "version": "3.7.7"
  }
 },
 "nbformat": 4,
 "nbformat_minor": 4
}
