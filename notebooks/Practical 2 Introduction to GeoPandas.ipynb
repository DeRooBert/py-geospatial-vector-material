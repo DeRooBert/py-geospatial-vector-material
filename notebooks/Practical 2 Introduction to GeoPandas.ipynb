{
 "cells": [
  {
   "cell_type": "markdown",
   "metadata": {},
   "source": [
    "# Practical 2: Introduction to GeoPandas and Geospatial Vector Data\n",
    "\n",
    "In this second practical session we will begin more hands-on work with geospatial *vector* data (i.e. points, lines, and polygons). We will also introduce the `GeoPandas` package and explore some of its key features for working with this type of data.\n",
    "\n",
    "Objectives:\n",
    "* Read/write spatial vector datasets in different formats\n",
    "* Create/convert/view geometry data\n",
    "* Produce basic plots of spatial data\n",
    "\n",
    "Let's get started."
   ]
  },
  {
   "cell_type": "code",
   "execution_count": null,
   "metadata": {},
   "outputs": [],
   "source": [
    "# load main packages\n",
    "import geopandas as gpd\n",
    "import pandas as pd"
   ]
  },
  {
   "cell_type": "markdown",
   "metadata": {},
   "source": [
    "## Overview and helpful links\n",
    "\n",
    "Remember that GeoPandas is a developing project that makes dealing with geospatial data in Python much easier. It leverages components from several other projects, including `pandas`, `shapely`, and `fiona`. \n",
    "\n",
    "To learn more and to find the documentation to these projects following these links:\n",
    "* GeoPandas\n",
    "    * [https://geopandas.org/](https://geopandas.org/)\n",
    "    * [https://geopandas.readthedocs.io/en/latest/](https://geopandas.readthedocs.io/en/latest/)\n",
    "* pandas - for DataFrames\n",
    "    * [https://pandas.pydata.org/](https://pandas.pydata.org/)\n",
    "* shapely - for geometry\n",
    "    * [https://shapely.readthedocs.io/en/latest/](https://shapely.readthedocs.io/en/latest/)\n",
    "* fiona - for file I/O\n",
    "    * [https://fiona.readthedocs.io/en/latest/](https://fiona.readthedocs.io/en/latest/)\n",
    "\n",
    "Under the hood, these packages rely on other libraries like GDAL/OGR ([https://www.osgeo.org/projects/gdal/](https://www.osgeo.org/projects/gdal/)) and proj ([https://www.osgeo.org/projects/proj/](https://www.osgeo.org/projects/proj/)).\n",
    "\n",
    "Refer back to the documentation as you explore the practicals during this workshop. There are many helpful features and we won't be able to cover everything.\n"
   ]
  },
  {
   "cell_type": "markdown",
   "metadata": {},
   "source": [
    "### Background on working with tabular data\n",
    "\n",
    "The practicals will try to give enough guidance and examples of working with different data types, but if you have less experience with `pandas` you may want to refer back to some of the other tutorials for additional help along the way.\n",
    "\n",
    "* [https://pandas.pydata.org/pandas-docs/stable/getting_started/tutorials.html](https://pandas.pydata.org/pandas-docs/stable/getting_started/tutorials.html)"
   ]
  },
  {
   "cell_type": "markdown",
   "metadata": {},
   "source": [
    "## Geospatial vector data\n",
    "\n",
    "There are different mathematical data models that can be used to represent objects, surfaces, or other geographic phenomena. These specify how data are defined, organised, updated, and queried. The *vector* data model is one example and, as we discussed in the lecture, it is usually contrasted with the *raster* data model.\n",
    "\n",
    "Vector data represent features whose geometry can consist of:\n",
    "* Points - a vertex or position in space with X, Y, and optionally Z coordinates\n",
    "\n",
    "* Lines - sets of vertices linked by paths where the start and ending point are not linked\n",
    "\n",
    "* Polygons - a closed shape formed by a set of vertices and paths in a set order, where the start and ending point are the same\n",
    "\n",
    "Don't confuse the data model with a specific file format. There are now several different file formats that can be used to store geospatial vector data (see also: [https://en.wikipedia.org/wiki/GIS_file_formats](https://en.wikipedia.org/wiki/GIS_file_formats)).\n",
    "\n",
    "The *shapefile* is still a well-known and common file format because it is used by a major GIS software company (ESRI). Other common formats you're likely to encounter are: *geopackages* and *GeoJSON* files. You might notice that the files we're using in the `\\data` directory are usually compressed (&ast;.zip). This is mostly for convenience of storing them on Github. Working with your own data you may want to leave them unzipped.\n",
    "\n",
    "Try unzipping one of the shapefiles (&ast;.shp.zip) on your computer. You will see that it isn't just one file, but a collection of several files. These contain either the geometry, the attributes, a spatial index, coordinate information. And you have to keep them all together and named the same.\n",
    "\n",
    "If you open one of the geopackages (&ast;.gpkg) and inspect it, you will see that inside is actually a SQLite database (which adhere to certain standards: [https://www.geopackage.org/](https://www.geopackage.org/)). There are many ways to work with vector data files, and we're going to focus on using `GeoPandas` within Python.\n",
    "\n",
    "Regardless of the file format of the vector data, `fiona` makes it easy to read into GeoPandas using the `geopandas.read_file` command.\n"
   ]
  },
  {
   "cell_type": "code",
   "execution_count": null,
   "metadata": {},
   "outputs": [],
   "source": [
    "# load an example of vector data\n",
    "# we will use a set of US states from the US Census Bureau\n",
    "gdf = gpd.read_file('zip://../data/cb_2018_us_state_500k.shp.zip')  # note the use of zip:// + relative path\n",
    "# paths may need to be changed if you are running the notebook locally\n",
    "\n",
    "# if we have an uncompressed shapefile instead, point towards the *.shp file: gpd.read_file('\\path\\to\\data.shp')"
   ]
  },
  {
   "cell_type": "markdown",
   "metadata": {},
   "source": [
    "## Linking place and attributes\n",
    "\n",
    "The key idea and the real power of geospatial data comes from linking information about a feature to a location in space or in the real-world. This may seem obvious and straight-forward, but it (as we will see) opens up many possibilities for how to integrate many different kinds of data and what questions we can start to ask and answer.\n",
    "\n",
    "In GeoPandas this central idea of linking attributes to places is operationalised with the core data structure of the `GeoDataFrame`.\n",
    "\n",
    "The data we just loaded is an example of a `GeoDataFrame`."
   ]
  },
  {
   "cell_type": "code",
   "execution_count": null,
   "metadata": {
    "scrolled": true
   },
   "outputs": [],
   "source": [
    "type(gdf)"
   ]
  },
  {
   "cell_type": "code",
   "execution_count": null,
   "metadata": {},
   "outputs": [],
   "source": [
    "# get the dimensions (rows, cols)\n",
    "gdf.shape"
   ]
  },
  {
   "cell_type": "code",
   "execution_count": null,
   "metadata": {},
   "outputs": [],
   "source": [
    "gdf.head()"
   ]
  },
  {
   "cell_type": "markdown",
   "metadata": {},
   "source": [
    "We saw some of these basic operations in the first practical, but let's look at the results in a bit more detail this time.\n",
    "\n",
    "* `.head()` shows the first rows of the dataset (from Pandas)\n",
    "* each row is an observation or a feature to be represented\n",
    "* the **attributes** of the observations in the `GeoDataFrame` are columns of data (in a `DataFrame`)\n",
    "* there is the additional **'geometry'** column\n",
    "* in this example, the geometry is using polygons\n",
    "    * in fact, there are **multipolygons**. We will discuss these a bit more in a later section, but for now understand that they have multiple parts, each a polygon which describe a single, real-world feature\n"
   ]
  },
  {
   "cell_type": "markdown",
   "metadata": {},
   "source": [
    "Because the `gdf` is still (also) a **DataFrame** from pandas, we can work with the attribute columns as we might with a \"normal\" or non-spatial DataFrame."
   ]
  },
  {
   "cell_type": "code",
   "execution_count": null,
   "metadata": {},
   "outputs": [],
   "source": [
    "# Calculate the total area of land in the US\n",
    "gdf['ALAND'].sum()"
   ]
  },
  {
   "cell_type": "code",
   "execution_count": null,
   "metadata": {},
   "outputs": [],
   "source": [
    "# GeoPandas has another way to quickly get the area of polygon shapes\n",
    "# examine just the beginning\n",
    "gdf.area.head()"
   ]
  },
  {
   "cell_type": "markdown",
   "metadata": {},
   "source": [
    "But what units are those area measurements in? The first seems really big... and the second result seems so different...\n",
    "\n",
    "We will spend a whole practical looking at how to accurately measure things like area (and perimeter, distance, etc.). Generally, you want to be very careful using something pre-calculated like this because often the process for how the calculations were done isn't clear. \n",
    "\n",
    "And, as you can see in the `Warning` message, the coordinate reference system used can have a big impact on the answer. This is telling us that we should \"re-project\" our data in order to get a more accurate answer. We'll do that later."
   ]
  },
  {
   "cell_type": "markdown",
   "metadata": {},
   "source": [
    "### Side track: `pandas` reminders\n",
    "\n",
    "We can select a subset of attributes and even convert the `GeoDataFrame` back into a pandas `DataFrame` by removing the geometry attribute if we really want to."
   ]
  },
  {
   "cell_type": "code",
   "execution_count": null,
   "metadata": {},
   "outputs": [],
   "source": [
    "gdfSub = gdf.loc[:,['NAME', 'GEOID', 'ALAND']]"
   ]
  },
  {
   "cell_type": "code",
   "execution_count": null,
   "metadata": {},
   "outputs": [],
   "source": [
    "# we didn't keep the Geometry column but...\n",
    "type(gdfSub)  # quirky. it's still a GeoDF"
   ]
  },
  {
   "cell_type": "code",
   "execution_count": null,
   "metadata": {
    "scrolled": true
   },
   "outputs": [],
   "source": [
    "gdfSub.head()"
   ]
  },
  {
   "cell_type": "code",
   "execution_count": null,
   "metadata": {},
   "outputs": [],
   "source": [
    "# we can make a `pandas` DataFrame and avoid making a copy of the data\n",
    "pdSub = pd.DataFrame(gdf[['NAME', 'GEOID', 'ALAND']])\n",
    "\n",
    "type(pdSub)"
   ]
  },
  {
   "cell_type": "code",
   "execution_count": null,
   "metadata": {},
   "outputs": [],
   "source": [
    "pdSub.head()"
   ]
  },
  {
   "cell_type": "markdown",
   "metadata": {},
   "source": [
    "It's easy to create new columns in a DataFrame. Here we're adding a row index."
   ]
  },
  {
   "cell_type": "code",
   "execution_count": null,
   "metadata": {},
   "outputs": [],
   "source": [
    "pdSub['uid'] = range(1, len(pdSub)+1)\n",
    "\n",
    "pdSub.head()"
   ]
  },
  {
   "cell_type": "markdown",
   "metadata": {},
   "source": [
    "Back to the `GeoDataFrame`...\n",
    "\n",
    "We can subset rows of the dataframe into a new GeoDataFrame based on conditions."
   ]
  },
  {
   "cell_type": "code",
   "execution_count": null,
   "metadata": {},
   "outputs": [],
   "source": [
    "# Extract just North Carolina into a new GeoDataFrame\n",
    "nc = gdf[gdf['NAME'] == 'North Carolina']\n",
    "\n",
    "nc"
   ]
  },
  {
   "cell_type": "code",
   "execution_count": null,
   "metadata": {},
   "outputs": [],
   "source": [
    "# make a simple map\n",
    "nc.plot()"
   ]
  },
  {
   "cell_type": "markdown",
   "metadata": {},
   "source": [
    "The geometry column deserves a bit more attention."
   ]
  },
  {
   "cell_type": "code",
   "execution_count": null,
   "metadata": {},
   "outputs": [],
   "source": [
    "# extract just the geometry attribute\n",
    "gs = gdf.geometry"
   ]
  },
  {
   "cell_type": "code",
   "execution_count": null,
   "metadata": {},
   "outputs": [],
   "source": [
    "# inspect the column (now extracted into its own vector)\n",
    "type(gs)"
   ]
  },
  {
   "cell_type": "code",
   "execution_count": null,
   "metadata": {},
   "outputs": [],
   "source": [
    "gs.head()"
   ]
  },
  {
   "cell_type": "markdown",
   "metadata": {},
   "source": [
    "This column is a unique attribute for spatial dataframes. In GeoPandas it is called a `GeoSeries` and it is a set of shapes for each observation in the DataFrame. It is made up of `shapely` objects. Because of this, the `GeoSeries` allows us to use most of the methods and attributes from `shapely`."
   ]
  },
  {
   "cell_type": "markdown",
   "metadata": {},
   "source": [
    "We can also access and work with invidual elements of the geometry series within the `GeoDataFrame`, though in practice we may not often do this."
   ]
  },
  {
   "cell_type": "code",
   "execution_count": null,
   "metadata": {},
   "outputs": [],
   "source": [
    "# get the first record and plot its geometry\n",
    "gdf.loc[0, 'geometry']"
   ]
  },
  {
   "cell_type": "code",
   "execution_count": null,
   "metadata": {
    "scrolled": true
   },
   "outputs": [],
   "source": [
    "# or as an alternative\n",
    "gdf.geometry[0]"
   ]
  },
  {
   "cell_type": "markdown",
   "metadata": {},
   "source": [
    "In a section above we talked about having a **multipolygon** instead of just a polygon. At this *scale* of the map, the state looks like one shape, but it is, in fact, a multi-part polygon. Together these polygon pieces make up the geometric representation for this one object."
   ]
  },
  {
   "cell_type": "code",
   "execution_count": null,
   "metadata": {},
   "outputs": [],
   "source": [
    "# how many \"parts\" are there in the geometry\n",
    "len(gdf.geometry[0])\n",
    "\n",
    "# note, you can also run `print(gdf.geometry[0])` to see the whole, long string"
   ]
  },
  {
   "cell_type": "code",
   "execution_count": null,
   "metadata": {},
   "outputs": [],
   "source": [
    "# inspect the first part (of the first state)\n",
    "# the default behavior is to plot the object\n",
    "gdf.geometry[0][0]"
   ]
  },
  {
   "cell_type": "code",
   "execution_count": null,
   "metadata": {},
   "outputs": [],
   "source": [
    "# inspect the last part (of the first state)\n",
    "gdf.geometry[0][7]"
   ]
  },
  {
   "cell_type": "markdown",
   "metadata": {},
   "source": [
    "## Creating a GeoDataFrame\n",
    "\n",
    "If we don't have a ready-made GIS file, there are several ways we can construct a GeoDataFrame within Python."
   ]
  },
  {
   "cell_type": "markdown",
   "metadata": {},
   "source": [
    "### Constructing manually\n",
    "\n",
    "It's possible to construct the GeoDataFrame from a set of attribute data."
   ]
  },
  {
   "cell_type": "code",
   "execution_count": null,
   "metadata": {},
   "outputs": [],
   "source": [
    "# first need to import geometry objects\n",
    "from shapely.geometry import Point, LineString, Polygon"
   ]
  },
  {
   "cell_type": "code",
   "execution_count": null,
   "metadata": {
    "scrolled": true
   },
   "outputs": [],
   "source": [
    "# create a test dataset manually\n",
    "test = gpd.GeoDataFrame({\n",
    "                         'geometry': [Point(1, 1), Point(2,2)],\n",
    "                         'var1': [1, 2],  # create a column labelled `var1`\n",
    "                         'var2': [3, 4]\n",
    "                        })\n",
    "\n",
    "print(test)\n",
    "type(test)"
   ]
  },
  {
   "cell_type": "markdown",
   "metadata": {},
   "source": [
    "This step has created a `GeoDataFrame` with two point locations and two other attribute columns."
   ]
  },
  {
   "cell_type": "code",
   "execution_count": null,
   "metadata": {},
   "outputs": [],
   "source": [
    "# show the points\n",
    "test.plot()"
   ]
  },
  {
   "cell_type": "markdown",
   "metadata": {},
   "source": [
    "Notice that I called the column **'geometry'**, but that can be changed."
   ]
  },
  {
   "cell_type": "code",
   "execution_count": null,
   "metadata": {
    "scrolled": true
   },
   "outputs": [],
   "source": [
    "# rename the geometry column to 'shape'\n",
    "test = test.rename(columns={'geometry': 'shape'}).set_geometry('shape')\n",
    "\n",
    "test"
   ]
  },
  {
   "cell_type": "code",
   "execution_count": null,
   "metadata": {},
   "outputs": [],
   "source": [
    "# retrieve the attribute for the GeoDataFrame\n",
    "test.geometry"
   ]
  },
  {
   "cell_type": "markdown",
   "metadata": {},
   "source": [
    "The `.geometry` attribute will always return the active column (regardless of what it is called), or we can check its actual name."
   ]
  },
  {
   "cell_type": "code",
   "execution_count": null,
   "metadata": {
    "scrolled": true
   },
   "outputs": [],
   "source": [
    "# return the name of the column that holds the active geometries\n",
    "test.geometry.name"
   ]
  },
  {
   "cell_type": "markdown",
   "metadata": {},
   "source": [
    "Setting, resetting, renaming a geometry column can come in handy. Your GeoDataFrame could theoretically have two (or more) columns containing spatial information, but you could switch and set your choice with `.set_geometry`. You would still need to take care with correctly managing the objects and coordinate systems.\n",
    "\n",
    "And it's still a `GeoDataFrame` after all that switching around."
   ]
  },
  {
   "cell_type": "code",
   "execution_count": null,
   "metadata": {},
   "outputs": [],
   "source": [
    "type(test)"
   ]
  },
  {
   "cell_type": "markdown",
   "metadata": {},
   "source": [
    "**Side Track**\n",
    "\n",
    "The example above shows how it can be quite easy to construct geometries. Let's try a few others."
   ]
  },
  {
   "cell_type": "code",
   "execution_count": null,
   "metadata": {
    "scrolled": false
   },
   "outputs": [],
   "source": [
    "# Create a test poplygon\n",
    "poly = Polygon([(0.5, 1), (1, 2), (.75, 3), (.75, 3.5), (.5, 4)])\n",
    "\n",
    "# notice that `Polygon` automatically closes our set of vertices for us\n",
    "print(poly)\n",
    "poly"
   ]
  },
  {
   "cell_type": "code",
   "execution_count": null,
   "metadata": {
    "scrolled": true
   },
   "outputs": [],
   "source": [
    "# Create a test line (or \"linestring\")\n",
    "# using the same set of coordates as above\n",
    "ln = LineString([(0.5, 1), (1, 2), (.75, 3), (.75, 3.5), (.5, 4)])\n",
    "\n",
    "# this time the points aren't closed\n",
    "print(ln)\n",
    "ln"
   ]
  },
  {
   "cell_type": "markdown",
   "metadata": {},
   "source": [
    "What about holes in a polygon?\n",
    "\n",
    "That's possible, but we'll need to define inner and outer *rings* in such a way that `shapely` understands the relationship between the shapes."
   ]
  },
  {
   "cell_type": "code",
   "execution_count": null,
   "metadata": {},
   "outputs": [],
   "source": [
    "# polygon with a hole\n",
    "# define the rings\n",
    "out_ring = [(0, 0), (0, 4), (4, 4), (4, 0), (0, 0)]\n",
    "in_ring = [(1, 1), (3, 1), (2, 3), (1,1)]\n",
    "\n",
    "polygon = Polygon(out_ring, [in_ring])  # note `[]`\n",
    "\n",
    "polygon"
   ]
  },
  {
   "cell_type": "markdown",
   "metadata": {},
   "source": [
    "#### Try for yourself!\n",
    "\n",
    "Experiment with making a few of your own geometries for points, lines, and polygons. \n",
    "\n",
    "What happens when:\n",
    "* a `LineString` ends at the same point it started with?\n",
    "* a `Polygon` intersects itself (repeating a vertex)?\n",
    "\n",
    "Can you store different geometry types within the same GeoDataFrame?\n",
    "* Hint: construct something like `test` above, but don't use all `Point` elements."
   ]
  },
  {
   "cell_type": "code",
   "execution_count": null,
   "metadata": {},
   "outputs": [],
   "source": [
    "# Test your code here...\n",
    "\n",
    "\n",
    "#"
   ]
  },
  {
   "cell_type": "markdown",
   "metadata": {},
   "source": [
    "### Constructing from a `pandas` DataFrame\n",
    "\n",
    "More commonly than manually creating data, we will need to create a **Geo**DataFrame from an existing *DataFrame* which might also contain geometry information. In the example below we are going to read in a `.csv` file which contains some coordinate locations and then we'll construct a GeoDataFrame.\n",
    "\n",
    "This is using an example data of populated places from [https://www.naturalearthdata.com/downloads/10m-cultural-vectors/10m-populated-places/](https://www.naturalearthdata.com/downloads/10m-cultural-vectors/10m-populated-places/) which I converted into a `.csv` file."
   ]
  },
  {
   "cell_type": "code",
   "execution_count": null,
   "metadata": {},
   "outputs": [],
   "source": [
    "# read .csv file with pandas\n",
    "df = pd.read_csv('../data/ne_cities_10m.csv')\n",
    "\n",
    "# creates a non-spatial DataFrame\n",
    "type(df)"
   ]
  },
  {
   "cell_type": "code",
   "execution_count": null,
   "metadata": {},
   "outputs": [],
   "source": [
    "df.shape"
   ]
  },
  {
   "cell_type": "code",
   "execution_count": null,
   "metadata": {
    "scrolled": true
   },
   "outputs": [],
   "source": [
    "df.head()"
   ]
  },
  {
   "cell_type": "markdown",
   "metadata": {},
   "source": [
    "There are a lot of columns in this dataset. More than `pandas` shows by default. But I will tell you that there are two columns: `latitude` and `longitude` that you can use to create `Point` objects and convert the data into a GeoDataFrame."
   ]
  },
  {
   "cell_type": "code",
   "execution_count": null,
   "metadata": {},
   "outputs": [],
   "source": [
    "# we can do the conversion in one step\n",
    "# pass the data frame along with a shapely object created from the coordinates\n",
    "cities = gpd.GeoDataFrame(df,\n",
    "                          geometry = gpd.points_from_xy(df.longitude, df.latitude))"
   ]
  },
  {
   "cell_type": "markdown",
   "metadata": {},
   "source": [
    "The result should be a new table:"
   ]
  },
  {
   "cell_type": "code",
   "execution_count": null,
   "metadata": {},
   "outputs": [],
   "source": [
    "cities.head()"
   ]
  },
  {
   "cell_type": "markdown",
   "metadata": {},
   "source": [
    "Notice that the number of columns has changed from the original DataFrame. There is one more column called `geometry` which we created."
   ]
  },
  {
   "cell_type": "code",
   "execution_count": null,
   "metadata": {},
   "outputs": [],
   "source": [
    "cities.shape"
   ]
  },
  {
   "cell_type": "markdown",
   "metadata": {},
   "source": [
    "The `geopandas.points_from_xy` is a convenient function to create a list of `shapely` Points. In fact, it is a wrapper for `[Point(x, y) for x, y in zip(df.longitude, df.latitude)]`.\n",
    "\n",
    "Pause for a moment. It's easy to get confused by what we mean by 'X' or 'Y' vs. 'Latitude' and 'Longitude'. Remember that lines of *Latitude* measure distance north and south of the equator... so they are 'Y' values. Line of *Longitude* measure distances east and west along the meridians... so they are 'X' values. Yes, technically they're degrees and angles, but we commonly refer to them as X and Y."
   ]
  },
  {
   "cell_type": "code",
   "execution_count": null,
   "metadata": {},
   "outputs": [],
   "source": [
    "# another way to create a list of `shapely` points\n",
    "[Point(x, y) for x, y in zip(df.longitude, df.latitude)][0:9]"
   ]
  },
  {
   "cell_type": "markdown",
   "metadata": {},
   "source": [
    "## Saving or exporting data\n",
    "\n",
    "Once we've finished creating or manipulating a GeoDataFrame in our notebooks, we may want to save that as a new output file. Below we will look at some common output formats. These are useful for sharing data with other researchers who may be using a GIS software or maybe something like `R`.\n",
    "\n",
    "Note: you may need to adjust the file paths depending on how you are running this notebook."
   ]
  },
  {
   "cell_type": "code",
   "execution_count": null,
   "metadata": {},
   "outputs": [],
   "source": [
    "# save the cities as a shapefile\n",
    "cities.to_file(\"../data/world_cities.shp\")"
   ]
  },
  {
   "cell_type": "code",
   "execution_count": null,
   "metadata": {},
   "outputs": [],
   "source": [
    "# save the cities as a GeoPackage\n",
    "# a GPKG has a \"dataset\" and a \"layer\" name\n",
    "cities.to_file(\"../data/world_cities.gpkg\", # path to file\n",
    "                layer='cities', \n",
    "                driver=\"GPKG\")"
   ]
  },
  {
   "cell_type": "markdown",
   "metadata": {},
   "source": [
    "To write to other formats, check the installed drivers for `fiona`:"
   ]
  },
  {
   "cell_type": "code",
   "execution_count": null,
   "metadata": {
    "scrolled": true
   },
   "outputs": [],
   "source": [
    "import fiona; fiona.supported_drivers"
   ]
  },
  {
   "cell_type": "markdown",
   "metadata": {},
   "source": [
    "Finished!"
   ]
  }
 ],
 "metadata": {
  "kernelspec": {
   "display_name": "Python 3",
   "language": "python",
   "name": "python3"
  },
  "language_info": {
   "codemirror_mode": {
    "name": "ipython",
    "version": 3
   },
   "file_extension": ".py",
   "mimetype": "text/x-python",
   "name": "python",
   "nbconvert_exporter": "python",
   "pygments_lexer": "ipython3",
   "version": "3.8.5"
  }
 },
 "nbformat": 4,
 "nbformat_minor": 4
}
